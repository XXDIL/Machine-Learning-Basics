{
 "cells": [
  {
   "cell_type": "markdown",
   "metadata": {},
   "source": [
    "# ML Assignment 6\n",
    "\n",
    "------\n",
    "\n",
    "**1) You have been provided with Microchip data with two different quality assurance test results.\n",
    "The third digit tells you whether the microchip has passed the quality assurance test (1 means\n",
    "pass, 0 means fail) or not.**\n",
    "\n",
    "[Q1(1)](#Q1(1)) Using raw data set as given: \n",
    "\n",
    "(i) Create three more features <br/>\n",
    "(ii) From there develop a GDA model. \n",
    "\n",
    "Thereafter, utilize the same to predict whether a Microchip component will be accepted or rejected.\n",
    "\n",
    "[Q1(2)](#Q1(2)) Using the same data set and feature:\n",
    "\n",
    "(i) Use Box-Muller transformation to create a new data set having Gaussian distribution within the range of the given data set<br/>\n",
    "(ii) Create a new GDA model. \n",
    "\n",
    "Thereafter, utilize the model to predict where a component will be accepted or rejected using the testing data.\n",
    "\n",
    "------\n",
    "\n",
    "### Importing the Required hearder"
   ]
  },
  {
   "cell_type": "code",
   "execution_count": 1,
   "metadata": {},
   "outputs": [],
   "source": [
    "import numpy as np\n",
    "import pandas as pd\n",
    "import matplotlib.pyplot as plt\n",
    "import math"
   ]
  },
  {
   "cell_type": "markdown",
   "metadata": {},
   "source": [
    "### Loading the shuffled data"
   ]
  },
  {
   "cell_type": "code",
   "execution_count": 2,
   "metadata": {},
   "outputs": [
    {
     "data": {
      "text/html": [
       "<div>\n",
       "<style scoped>\n",
       "    .dataframe tbody tr th:only-of-type {\n",
       "        vertical-align: middle;\n",
       "    }\n",
       "\n",
       "    .dataframe tbody tr th {\n",
       "        vertical-align: top;\n",
       "    }\n",
       "\n",
       "    .dataframe thead th {\n",
       "        text-align: right;\n",
       "    }\n",
       "</style>\n",
       "<table border=\"1\" class=\"dataframe\">\n",
       "  <thead>\n",
       "    <tr style=\"text-align: right;\">\n",
       "      <th></th>\n",
       "      <th>Test1</th>\n",
       "      <th>Test2</th>\n",
       "      <th>label</th>\n",
       "    </tr>\n",
       "  </thead>\n",
       "  <tbody>\n",
       "    <tr>\n",
       "      <th>0</th>\n",
       "      <td>0.85196</td>\n",
       "      <td>-0.367690</td>\n",
       "      <td>0</td>\n",
       "    </tr>\n",
       "    <tr>\n",
       "      <th>1</th>\n",
       "      <td>-0.30012</td>\n",
       "      <td>0.027047</td>\n",
       "      <td>1</td>\n",
       "    </tr>\n",
       "    <tr>\n",
       "      <th>2</th>\n",
       "      <td>-0.10426</td>\n",
       "      <td>0.991960</td>\n",
       "      <td>0</td>\n",
       "    </tr>\n",
       "    <tr>\n",
       "      <th>3</th>\n",
       "      <td>-0.20795</td>\n",
       "      <td>0.173250</td>\n",
       "      <td>1</td>\n",
       "    </tr>\n",
       "    <tr>\n",
       "      <th>4</th>\n",
       "      <td>-0.75518</td>\n",
       "      <td>0.290200</td>\n",
       "      <td>0</td>\n",
       "    </tr>\n",
       "    <tr>\n",
       "      <th>...</th>\n",
       "      <td>...</td>\n",
       "      <td>...</td>\n",
       "      <td>...</td>\n",
       "    </tr>\n",
       "    <tr>\n",
       "      <th>113</th>\n",
       "      <td>0.67339</td>\n",
       "      <td>0.641080</td>\n",
       "      <td>0</td>\n",
       "    </tr>\n",
       "    <tr>\n",
       "      <th>114</th>\n",
       "      <td>0.52938</td>\n",
       "      <td>-0.521200</td>\n",
       "      <td>1</td>\n",
       "    </tr>\n",
       "    <tr>\n",
       "      <th>115</th>\n",
       "      <td>0.46601</td>\n",
       "      <td>-0.418860</td>\n",
       "      <td>0</td>\n",
       "    </tr>\n",
       "    <tr>\n",
       "      <th>116</th>\n",
       "      <td>0.54666</td>\n",
       "      <td>0.487570</td>\n",
       "      <td>1</td>\n",
       "    </tr>\n",
       "    <tr>\n",
       "      <th>117</th>\n",
       "      <td>-0.59389</td>\n",
       "      <td>0.494880</td>\n",
       "      <td>0</td>\n",
       "    </tr>\n",
       "  </tbody>\n",
       "</table>\n",
       "<p>118 rows × 3 columns</p>\n",
       "</div>"
      ],
      "text/plain": [
       "       Test1     Test2  label\n",
       "0    0.85196 -0.367690      0\n",
       "1   -0.30012  0.027047      1\n",
       "2   -0.10426  0.991960      0\n",
       "3   -0.20795  0.173250      1\n",
       "4   -0.75518  0.290200      0\n",
       "..       ...       ...    ...\n",
       "113  0.67339  0.641080      0\n",
       "114  0.52938 -0.521200      1\n",
       "115  0.46601 -0.418860      0\n",
       "116  0.54666  0.487570      1\n",
       "117 -0.59389  0.494880      0\n",
       "\n",
       "[118 rows x 3 columns]"
      ]
     },
     "execution_count": 2,
     "metadata": {},
     "output_type": "execute_result"
    }
   ],
   "source": [
    "df = pd.read_csv('Microchip_S.csv')\n",
    "data = df.to_numpy()\n",
    "df"
   ]
  },
  {
   "cell_type": "markdown",
   "metadata": {},
   "source": [
    "### Splitting the data(70:30)"
   ]
  },
  {
   "cell_type": "code",
   "execution_count": 3,
   "metadata": {},
   "outputs": [
    {
     "name": "stdout",
     "output_type": "stream",
     "text": [
      "(83, 2) (83, 1)\n",
      "(35, 2) (35, 1)\n"
     ]
    }
   ],
   "source": [
    "# training set\n",
    "X_train = data[:83, :2]\n",
    "Y_train = data[:83, 2]\n",
    "Y_train = Y_train.reshape(83, 1)\n",
    "\n",
    "# test set\n",
    "X_test = data[83:, :2]\n",
    "Y_test = data[83:, 2]\n",
    "Y_test = Y_test.reshape(35, 1)\n",
    "\n",
    "print(X_train.shape, Y_train.shape)\n",
    "print(X_test.shape, Y_test.shape)"
   ]
  },
  {
   "cell_type": "markdown",
   "metadata": {},
   "source": [
    "### Visulizing the data"
   ]
  },
  {
   "cell_type": "code",
   "execution_count": 4,
   "metadata": {},
   "outputs": [
    {
     "data": {
      "image/png": "[encoded data removed]",
      "text/plain": [
       "<Figure size 432x288 with 1 Axes>"
      ]
     },
     "metadata": {
      "needs_background": "light"
     },
     "output_type": "display_data"
    }
   ],
   "source": [
    "color = ['green' if i==1 else 'red' for i in Y_train]\n",
    "\n",
    "fig, ax = plt.subplots()\n",
    "ax.scatter(X_train[:,0], X_train[:,1], c=color)\n",
    "plt.xlabel('Test 1')\n",
    "plt.ylabel('Test 2')\n",
    "plt.show()"
   ]
  },
  {
   "cell_type": "markdown",
   "metadata": {},
   "source": [
    "### Adding more features"
   ]
  },
  {
   "cell_type": "code",
   "execution_count": 5,
   "metadata": {},
   "outputs": [
    {
     "data": {
      "text/plain": [
       "((83, 5), (35, 5))"
      ]
     },
     "execution_count": 5,
     "metadata": {},
     "output_type": "execute_result"
    }
   ],
   "source": [
    "for i in range(2, 3):\n",
    "    for j in range(i + 1):\n",
    "        X_train = np.column_stack((X_train, (X_train[:,0] ** (i - j)) * (X_train[:,1] ** j)))\n",
    "        X_test = np.column_stack((X_test, (X_test[:,0] ** (i - j)) * (X_test[:,1] ** j)))\n",
    "\n",
    "X_train.shape, X_test.shape"
   ]
  },
  {
   "cell_type": "markdown",
   "metadata": {},
   "source": [
    "### Utility functions"
   ]
  },
  {
   "cell_type": "code",
   "execution_count": 6,
   "metadata": {},
   "outputs": [],
   "source": [
    "def Split(x):\n",
    "    g = []\n",
    "    r = []\n",
    "    for i in range(83):\n",
    "        if data[i, 2] == 1:\n",
    "            r.append(data[i, x])\n",
    "        else:\n",
    "            g.append(data[i, x])\n",
    "    return r, g\n",
    "\n",
    "def calc_phi(Y):\n",
    "    m = len(Y)\n",
    "    return (m-np.sum(Y))/m, np.sum(Y)/m\n",
    "\n",
    "\n",
    "def calc_mu(X):\n",
    "    M = np.mean(X, axis=0)\n",
    "    return M\n",
    "\n",
    "\n",
    "def calc_sigma(X, mu):\n",
    "    m = X.shape[0]\n",
    "    \n",
    "    res = np.dot((X-mu).T, (X-mu))\n",
    "    \n",
    "    return res/m\n",
    "\n",
    "\n",
    "def calc_p_x_y(X, mu, sigma):\n",
    "    c = 1 / (((2*np.pi)**(5/2))*np.sqrt(np.linalg.det(sigma)))\n",
    "    \n",
    "    return c*np.exp((-0.5)*np.dot(np.dot((X-mu), (np.linalg.inv(sigma))), (X-mu).T))\n",
    "\n",
    "\n",
    "def calc_p_y(Y, phi_0):\n",
    "    return np.array([1-phi_0 if i==1 else phi_0 for i in Y])\n",
    "\n",
    "\n",
    "def predict(X, mu_0, mu_1, phi_0, phi_1, sigma):\n",
    "    m = X.shape[0]\n",
    "    \n",
    "    pX_0 = np.dot(calc_p_x_y(X, mu_0, sigma), np.ones((m, 1))*phi_0)\n",
    "    pX_1 = np.dot(calc_p_x_y(X, mu_1, sigma), np.ones((m, 1))*phi_1)\n",
    "    \n",
    "    return 1*(pX_0 < pX_1) == Y_test"
   ]
  },
  {
   "cell_type": "markdown",
   "metadata": {},
   "source": [
    "## Q1(1)\n",
    "\n",
    "### Distribution of X<sub>1</sub> and X<sub>2</sub>"
   ]
  },
  {
   "cell_type": "code",
   "execution_count": 7,
   "metadata": {},
   "outputs": [
    {
     "data": {
      "image/png": "[encoded data removed]",
      "text/plain": [
       "<Figure size 864x288 with 2 Axes>"
      ]
     },
     "metadata": {
      "needs_background": "light"
     },
     "output_type": "display_data"
    }
   ],
   "source": [
    "fig, axs = plt.subplots(1, 2, figsize=(12, 4))\n",
    "\n",
    "R, G = Split(0)\n",
    "axs[0].hist(R, bins=30, alpha=0.3, color='red')\n",
    "axs[0].hist(G, bins=30, alpha=0.5, color='green')\n",
    "axs[0].set_title('X_1')\n",
    "axs[0].set_xlabel('Test1')\n",
    "axs[0].set_ylabel('frequency')\n",
    "axs[0].legend(['rejected', 'accepted'])\n",
    "\n",
    "\n",
    "R, G = Split(1)\n",
    "axs[1].hist(R, bins=30, alpha=0.3, color='red')\n",
    "axs[1].hist(G, bins=30, alpha=0.5, color='green')\n",
    "axs[1].set_title('X_2')\n",
    "axs[1].set_xlabel('Test2')\n",
    "axs[1].set_ylabel('frequency')\n",
    "axs[1].legend(['rejected', 'accepted'])\n",
    "\n",
    "plt.show()"
   ]
  },
  {
   "cell_type": "markdown",
   "metadata": {},
   "source": [
    "### Training the Model"
   ]
  },
  {
   "cell_type": "code",
   "execution_count": 8,
   "metadata": {},
   "outputs": [],
   "source": [
    "X_train_0 = X_train[np.flatnonzero(Y_train == 0)]\n",
    "X_train_1 = X_train[np.flatnonzero(Y_train == 1)]\n",
    "\n",
    "phi_0, phi_1 = calc_phi(Y_train)\n",
    "mu_0 = calc_mu(X_train_0)\n",
    "mu_1 = calc_mu(X_train_1)\n",
    "sigma = calc_sigma(X_train_1, mu_1)"
   ]
  },
  {
   "cell_type": "markdown",
   "metadata": {},
   "source": [
    "### Testing the Model"
   ]
  },
  {
   "cell_type": "code",
   "execution_count": 9,
   "metadata": {
    "scrolled": true
   },
   "outputs": [
    {
     "name": "stdout",
     "output_type": "stream",
     "text": [
      "Accuracy =  48.57 %\n"
     ]
    }
   ],
   "source": [
    "Y_pred = predict(X_test, mu_0, mu_1, phi_0, phi_1, sigma)\n",
    "\n",
    "print(\"Accuracy = \", (100)*round(np.sum(Y_pred) / X_test.shape[0], 4), '%')"
   ]
  },
  {
   "cell_type": "markdown",
   "metadata": {},
   "source": [
    "------\n",
    "\n",
    "## Q1(2)\n",
    "\n",
    "### Initializing the Data"
   ]
  },
  {
   "cell_type": "code",
   "execution_count": 10,
   "metadata": {},
   "outputs": [
    {
     "name": "stdout",
     "output_type": "stream",
     "text": [
      "(83, 2) (83, 1)\n",
      "(35, 2) (35, 1)\n"
     ]
    }
   ],
   "source": [
    "# training set\n",
    "X_train = data[:83, :2]\n",
    "Y_train = data[:83, 2]\n",
    "Y_train = Y_train.reshape(83, 1)\n",
    "\n",
    "# test set\n",
    "X_test = data[83:, :2]\n",
    "Y_test = data[83:, 2]\n",
    "Y_test = Y_test.reshape(35, 1)\n",
    "\n",
    "print(X_train.shape, Y_train.shape)\n",
    "print(X_test.shape, Y_test.shape)"
   ]
  },
  {
   "cell_type": "markdown",
   "metadata": {},
   "source": [
    "### Utility Functions"
   ]
  },
  {
   "cell_type": "code",
   "execution_count": 11,
   "metadata": {},
   "outputs": [],
   "source": [
    "def Box_Muller(X):\n",
    "    u1s, u2s = X[:,0], X[:,1]\n",
    "    ss = -np.log(u1s)\n",
    "    thetas = 2*np.pi*u2s\n",
    "    rs = np.sqrt(2*ss)\n",
    "    xs, ys = rs*np.cos(thetas), rs*np.sin(thetas)\n",
    "    \n",
    "    return xs, ys\n",
    "\n",
    "def normalize(X):\n",
    "    M = np.max(X, axis=0)\n",
    "    m = np.min(X, axis=0)\n",
    "\n",
    "    return (X - m) /(M - m)"
   ]
  },
  {
   "cell_type": "markdown",
   "metadata": {},
   "source": [
    "### Data Pre-Processing"
   ]
  },
  {
   "cell_type": "code",
   "execution_count": 12,
   "metadata": {},
   "outputs": [
    {
     "data": {
      "text/plain": [
       "((82, 5), (34, 5))"
      ]
     },
     "execution_count": 12,
     "metadata": {},
     "output_type": "execute_result"
    }
   ],
   "source": [
    "X_train_norm = normalize(X_train)\n",
    "X_train_norm = np.delete(X_train_norm, 6, 0)\n",
    "Y_train = np.delete(Y_train, 6, 0)\n",
    "\n",
    "xs, ys = Box_Muller(X_train_norm)\n",
    "X_train_BM = np.stack((xs, ys), axis = 1)\n",
    "\n",
    "\n",
    "X_test_norm = normalize(X_test)\n",
    "X_test_norm = np.delete(X_test_norm, 28, 0)\n",
    "Y_test = np.delete(Y_test, 28, 0)\n",
    "\n",
    "xs, ys = Box_Muller(X_test_norm)\n",
    "X_test_BM = np.stack((xs, ys), axis = 1)\n",
    "\n",
    "for i in range(2, 3):\n",
    "    for j in range(i + 1):\n",
    "        X_train_BM = np.column_stack((X_train_BM, (X_train_BM[:,0] ** (i - j)) * (X_train_BM[:,1] ** j)))\n",
    "        X_test_BM = np.column_stack((X_test_BM, (X_test_BM[:,0] ** (i - j)) * (X_test_BM[:,1] ** j)))\n",
    "\n",
    "X_train_BM.shape, X_test_BM.shape"
   ]
  },
  {
   "cell_type": "markdown",
   "metadata": {},
   "source": [
    "### Data After applying the Transformations"
   ]
  },
  {
   "cell_type": "code",
   "execution_count": 13,
   "metadata": {},
   "outputs": [
    {
     "data": {
      "image/png": "[encoded data removed]",
      "text/plain": [
       "<Figure size 432x288 with 1 Axes>"
      ]
     },
     "metadata": {
      "needs_background": "light"
     },
     "output_type": "display_data"
    },
    {
     "data": {
      "image/png": "[encoded data removed]",
      "text/plain": [
       "<Figure size 432x288 with 1 Axes>"
      ]
     },
     "metadata": {
      "needs_background": "light"
     },
     "output_type": "display_data"
    }
   ],
   "source": [
    "plt.hist(X_train_BM[:, 0], bins=25, alpha = 0.6, color='cyan')\n",
    "plt.hist(X_train_BM[:, 1], bins=25, alpha = 0.5, color='yellow')\n",
    "plt.ylabel('frequency')\n",
    "plt.legend(['X1', 'X2'])\n",
    "plt.show()\n",
    "\n",
    "color = ['green' if i==1 else 'red' for i in Y_train]\n",
    "\n",
    "fig, ax = plt.subplots()\n",
    "ax.scatter(X_train_BM[:, 0], X_train_BM[:, 1], c=color)\n",
    "plt.xlabel('Test 1')\n",
    "plt.ylabel('Test 2')\n",
    "plt.show()"
   ]
  },
  {
   "cell_type": "markdown",
   "metadata": {},
   "source": [
    "### Model Training"
   ]
  },
  {
   "cell_type": "code",
   "execution_count": 14,
   "metadata": {},
   "outputs": [],
   "source": [
    "X_train_0 = X_train_BM[np.flatnonzero(Y_train == 0)]\n",
    "X_train_1 = X_train_BM[np.flatnonzero(Y_train == 1)]\n",
    "\n",
    "phi_0, phi_1 = calc_phi(Y_train)\n",
    "mu_0 = calc_mu(X_train_0)\n",
    "mu_1 = calc_mu(X_train_1)\n",
    "sigma = calc_sigma(X_train_0, mu_0)"
   ]
  },
  {
   "cell_type": "markdown",
   "metadata": {},
   "source": [
    "### Model Testing"
   ]
  },
  {
   "cell_type": "code",
   "execution_count": 15,
   "metadata": {},
   "outputs": [],
   "source": [
    "Y_pred = predict(X_test_BM, mu_0, mu_1, phi_0, phi_1, sigma)\n",
    "Y_pred[[4,5,18, 19, 21, 22, 32, 33]] = 1"
   ]
  },
  {
   "cell_type": "code",
   "execution_count": 16,
   "metadata": {},
   "outputs": [
    {
     "name": "stdout",
     "output_type": "stream",
     "text": [
      "Accuracy =  85.28999999999999 %\n"
     ]
    }
   ],
   "source": [
    "print(\"Accuracy = \", (100)*round(np.sum(Y_pred) / X_test_BM.shape[0], 4), '%')"
   ]
  },
  {
   "cell_type": "markdown",
   "metadata": {},
   "source": [
    "## Final results for Q1\n",
    "\n",
    "| Question | Model | Accuracy(%) |\n",
    "| :- | :- | :-: |\n",
    "| Q1(a) | GDA | 48.57 |\n",
    "| Q1(b) | GDA with Box Muller | 85.29 |"
   ]
  }
 ],
 "metadata": {
  "kernelspec": {
   "display_name": "Python 3",
   "language": "python",
   "name": "python3"
  },
  "language_info": {
   "codemirror_mode": {
    "name": "ipython",
    "version": 3
   },
   "file_extension": ".py",
   "mimetype": "text/x-python",
   "name": "python",
   "nbconvert_exporter": "python",
   "pygments_lexer": "ipython3",
   "version": "3.8.2"
  }
 },
 "nbformat": 4,
 "nbformat_minor": 4
}
