{
 "cells": [
  {
   "cell_type": "markdown",
   "metadata": {},
   "source": [
    "## ML Assignment 3\n",
    "\n",
    "### Question : \n",
    "5) Download the COVID -19 data of India for the month of May, 2020 and design a predictor for the number of deaths on a particular day. Hence, predict the number of deaths on  April 20, 2020 and June 10th , 2020. Verify your prediction with the actual number of deaths and hence calculate the accuracy of prediction."
   ]
  },
  {
   "cell_type": "markdown",
   "metadata": {},
   "source": [
    "### i) Import headers and csv data"
   ]
  },
  {
   "cell_type": "code",
   "execution_count": 1,
   "metadata": {},
   "outputs": [],
   "source": [
    "import numpy as np\n",
    "import pandas as pd\n",
    "import matplotlib.pyplot as plt\n",
    "import re\n",
    "\n",
    "df = pd.read_csv('india_covid19.csv')"
   ]
  },
  {
   "cell_type": "markdown",
   "metadata": {},
   "source": [
    "### ii) Extracting Relevant Data for May 2020"
   ]
  },
  {
   "cell_type": "code",
   "execution_count": 2,
   "metadata": {},
   "outputs": [],
   "source": [
    "may = df.loc[df['Date_reported'].str.match(r'..-05-2020')]\n",
    "may = may[['Date_reported', ' New_deaths']]\n",
    "\n",
    "may['Date_reported'] =  pd.to_datetime(may['Date_reported'], format='%d-%m-%Y')\n",
    "may['Date_reported'] = may['Date_reported'].dt.day"
   ]
  },
  {
   "cell_type": "markdown",
   "metadata": {},
   "source": [
    "### iii) Visualizing the date"
   ]
  },
  {
   "cell_type": "code",
   "execution_count": 3,
   "metadata": {},
   "outputs": [
    {
     "data": {
      "text/plain": [
       "<matplotlib.axes._subplots.AxesSubplot at 0x7f1c13d41d30>"
      ]
     },
     "execution_count": 3,
     "metadata": {},
     "output_type": "execute_result"
    },
    {
     "data": {
      "image/png": "[encoded data removed]",
      "text/plain": [
       "<Figure size 432x288 with 1 Axes>"
      ]
     },
     "metadata": {
      "needs_background": "light"
     },
     "output_type": "display_data"
    }
   ],
   "source": [
    "may.plot(x ='Date_reported', y=' New_deaths', kind = 'scatter')"
   ]
  },
  {
   "cell_type": "markdown",
   "metadata": {},
   "source": [
    "### iv) Construction the Predictors\n",
    "\n",
    "#### Initializinfg the constants"
   ]
  },
  {
   "cell_type": "code",
   "execution_count": 4,
   "metadata": {},
   "outputs": [],
   "source": [
    "n = 22\n",
    "X = may['Date_reported'].head(n)\n",
    "Y = may[' New_deaths'].head(n)\n",
    "\n",
    "X_val = may['Date_reported'].tail(9)\n",
    "Y_val = may[' New_deaths'].tail(9)"
   ]
  },
  {
   "cell_type": "markdown",
   "metadata": {},
   "source": [
    "### Finding w0 and w1 ( for Linear )"
   ]
  },
  {
   "cell_type": "code",
   "execution_count": 5,
   "metadata": {},
   "outputs": [],
   "source": [
    "A = np.sum(X)\n",
    "B = np.sum(Y)\n",
    "C = np.sum(X*X)\n",
    "D = np.sum(X*Y)\n",
    "\n",
    "w0 = (A*D - C*B) / (A*A - n*C)\n",
    "w1 = (A*B - n*D) / (A*A - n*C)\n",
    "\n",
    "def H(x):\n",
    "    return w0 + w1*x"
   ]
  },
  {
   "cell_type": "markdown",
   "metadata": {},
   "source": [
    "### Finding w0, w1 and w2 ( for Quadratic )"
   ]
  },
  {
   "cell_type": "code",
   "execution_count": 6,
   "metadata": {},
   "outputs": [],
   "source": [
    "Xmat = np.column_stack((np.ones(n), X, X*X))\n",
    "\n",
    "W = np.dot(np.linalg.inv(np.dot(Xmat.T, Xmat)), np.dot(Xmat.T, Y))\n",
    "\n",
    "def G(x):\n",
    "    return W[0] + W[1]*x + W[2]*x*x"
   ]
  },
  {
   "cell_type": "markdown",
   "metadata": {},
   "source": [
    "### v) Visualizing the hypothesis"
   ]
  },
  {
   "cell_type": "code",
   "execution_count": 12,
   "metadata": {},
   "outputs": [
    {
     "data": {
      "image/png": "[encoded data removed]",
      "text/plain": [
       "<Figure size 432x288 with 1 Axes>"
      ]
     },
     "metadata": {
      "needs_background": "light"
     },
     "output_type": "display_data"
    }
   ],
   "source": [
    "x = X\n",
    "y = H(x)\n",
    "y_ = np.dot(Xmat, W)\n",
    "plt.plot(x, y, '-r', label='y='+\"{:.2f}\".format(w1)+'x+'+\"{:.2f}\".format(w0))\n",
    "plt.plot(x, y_, '-b', label='y='+\"{:.4f}\".format(W[2])+'x^2+'+\"{:.2f}\".format(W[1])+'x+'+\"{:.2f}\".format(W[0]))\n",
    "plt.scatter(X, Y)\n",
    "plt.title('Hypothesis')\n",
    "plt.legend(loc='upper right')\n",
    "plt.xlabel(\"Date_reported\")\n",
    "plt.ylabel(\"New_deaths\")\n",
    "plt.grid()\n",
    "plt.show()"
   ]
  },
  {
   "cell_type": "markdown",
   "metadata": {},
   "source": [
    "### v) Mean Average Percentage Error (MAPE)"
   ]
  },
  {
   "cell_type": "code",
   "execution_count": 8,
   "metadata": {},
   "outputs": [
    {
     "name": "stdout",
     "output_type": "stream",
     "text": [
      "percent error for linear = 34.87\n",
      "percent error for Quadratic = 34.4\n"
     ]
    }
   ],
   "source": [
    "Y_predicted = H(X_val)\n",
    "\n",
    "J = np.sum(np.abs(Y_predicted - Y_val)/Y_val)\n",
    "percentage = round((J/9)**(1/2) * 100, 2)\n",
    "\n",
    "print(\"percent error for linear =\", percentage)\n",
    "\n",
    "Y_predicted = W[0] + W[1]*X_val + W[2]*(X_val**2)\n",
    "\n",
    "J = np.sum(np.abs(Y_predicted - Y_val)/Y_val)\n",
    "percentage = round((J/9)**(1/2) * 100, 2)\n",
    "\n",
    "print(\"percent error for Quadratic =\", percentage)"
   ]
  },
  {
   "cell_type": "markdown",
   "metadata": {},
   "source": [
    "### Predicting April 20 and June 20 deaths"
   ]
  },
  {
   "cell_type": "code",
   "execution_count": 9,
   "metadata": {},
   "outputs": [
    {
     "name": "stdout",
     "output_type": "stream",
     "text": [
      "\t\tActual\t\tPrediction\t\tMonth\n",
      "Linear\t\t36\t\t61.297\t\t\tApril\n",
      "Quadratic\t36\t\t63.173\t\t\tApril\n",
      "Linear\t\t375\t\t210.955\t\t\tJune\n",
      "Quadratic\t375\t\t217.714\t\t\tJune\n"
     ]
    }
   ],
   "source": [
    "# April 20 - > x = -10\n",
    "linr_apr = round(H(-10), 3)\n",
    "quad_apr = round(G(-10), 3)\n",
    "\n",
    "print(\"\\t\\tActual\\t\\tPrediction\\t\\tMonth\")\n",
    "print(\"Linear\\t\\t36\" + \"\\t\\t\" +str(linr_apr) + \"\\t\\t\\tApril\")\n",
    "print(\"Quadratic\\t36\" + \"\\t\\t\" +str(quad_apr) + \"\\t\\t\\tApril\")\n",
    "\n",
    "# June 20 - > x = 51\n",
    "linr_jun = round(H(51), 3)\n",
    "quad_jun = round(G(51), 3)\n",
    "\n",
    "print(\"Linear\\t\\t375\" +  \"\\t\\t\" +str(linr_jun) + \"\\t\\t\\tJune\")\n",
    "print(\"Quadratic\\t375\" +  \"\\t\\t\" +str(quad_jun) + \"\\t\\t\\tJune\")"
   ]
  }
 ],
 "metadata": {
  "kernelspec": {
   "display_name": "Python 3",
   "language": "python",
   "name": "python3"
  },
  "language_info": {
   "codemirror_mode": {
    "name": "ipython",
    "version": 3
   },
   "file_extension": ".py",
   "mimetype": "text/x-python",
   "name": "python",
   "nbconvert_exporter": "python",
   "pygments_lexer": "ipython3",
   "version": "3.8.2"
  }
 },
 "nbformat": 4,
 "nbformat_minor": 4
}
