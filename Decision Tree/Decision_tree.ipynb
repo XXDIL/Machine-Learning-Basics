{
 "cells": [
  {
   "cell_type": "markdown",
   "metadata": {},
   "source": [
    "# Decision Tree Assignment \n",
    "\n",
    "### [Problem_1](#Problem-1)\n",
    "\n",
    "Consider two features, age and heart disease to  create a decision tree with gini impurity.\n",
    "\n",
    "\n",
    "### [Problem_2](#Problem-2)\n",
    "\n",
    "Consider two features, slope and heart disease to create a decision tree with Information gain.\n",
    "\n",
    "------\n",
    "\n",
    "### Importing the Headers"
   ]
  },
  {
   "cell_type": "code",
   "execution_count": 1,
   "metadata": {},
   "outputs": [],
   "source": [
    "import numpy as np\n",
    "import pandas as pd\n",
    "import matplotlib.pyplot as plt\n",
    "import math"
   ]
  },
  {
   "cell_type": "markdown",
   "metadata": {},
   "source": [
    "#### Loading data from CSV file"
   ]
  },
  {
   "cell_type": "code",
   "execution_count": 2,
   "metadata": {},
   "outputs": [],
   "source": [
    "hp = pd.read_csv('processed.cleveland.csv')"
   ]
  },
  {
   "cell_type": "markdown",
   "metadata": {},
   "source": [
    "------\n",
    "\n",
    "## Problem 1\n",
    "\n",
    "### Sort based on Age"
   ]
  },
  {
   "cell_type": "code",
   "execution_count": 3,
   "metadata": {},
   "outputs": [
    {
     "data": {
      "text/html": [
       "<div>\n",
       "<style scoped>\n",
       "    .dataframe tbody tr th:only-of-type {\n",
       "        vertical-align: middle;\n",
       "    }\n",
       "\n",
       "    .dataframe tbody tr th {\n",
       "        vertical-align: top;\n",
       "    }\n",
       "\n",
       "    .dataframe thead th {\n",
       "        text-align: right;\n",
       "    }\n",
       "</style>\n",
       "<table border=\"1\" class=\"dataframe\">\n",
       "  <thead>\n",
       "    <tr style=\"text-align: right;\">\n",
       "      <th></th>\n",
       "      <th>age</th>\n",
       "      <th>num</th>\n",
       "    </tr>\n",
       "  </thead>\n",
       "  <tbody>\n",
       "    <tr>\n",
       "      <th>132</th>\n",
       "      <td>29</td>\n",
       "      <td>0</td>\n",
       "    </tr>\n",
       "    <tr>\n",
       "      <th>101</th>\n",
       "      <td>34</td>\n",
       "      <td>0</td>\n",
       "    </tr>\n",
       "    <tr>\n",
       "      <th>225</th>\n",
       "      <td>34</td>\n",
       "      <td>0</td>\n",
       "    </tr>\n",
       "    <tr>\n",
       "      <th>283</th>\n",
       "      <td>35</td>\n",
       "      <td>0</td>\n",
       "    </tr>\n",
       "    <tr>\n",
       "      <th>117</th>\n",
       "      <td>35</td>\n",
       "      <td>0</td>\n",
       "    </tr>\n",
       "    <tr>\n",
       "      <th>...</th>\n",
       "      <td>...</td>\n",
       "      <td>...</td>\n",
       "    </tr>\n",
       "    <tr>\n",
       "      <th>42</th>\n",
       "      <td>71</td>\n",
       "      <td>0</td>\n",
       "    </tr>\n",
       "    <tr>\n",
       "      <th>103</th>\n",
       "      <td>71</td>\n",
       "      <td>0</td>\n",
       "    </tr>\n",
       "    <tr>\n",
       "      <th>233</th>\n",
       "      <td>74</td>\n",
       "      <td>0</td>\n",
       "    </tr>\n",
       "    <tr>\n",
       "      <th>257</th>\n",
       "      <td>76</td>\n",
       "      <td>0</td>\n",
       "    </tr>\n",
       "    <tr>\n",
       "      <th>161</th>\n",
       "      <td>77</td>\n",
       "      <td>1</td>\n",
       "    </tr>\n",
       "  </tbody>\n",
       "</table>\n",
       "<p>303 rows × 2 columns</p>\n",
       "</div>"
      ],
      "text/plain": [
       "     age  num\n",
       "132   29    0\n",
       "101   34    0\n",
       "225   34    0\n",
       "283   35    0\n",
       "117   35    0\n",
       "..   ...  ...\n",
       "42    71    0\n",
       "103   71    0\n",
       "233   74    0\n",
       "257   76    0\n",
       "161   77    1\n",
       "\n",
       "[303 rows x 2 columns]"
      ]
     },
     "execution_count": 3,
     "metadata": {},
     "output_type": "execute_result"
    }
   ],
   "source": [
    "new_df = hp[['age', 'num']]\n",
    "new_df = new_df.sort_values(by=['age'])\n",
    "data = new_df.to_numpy()\n",
    "\n",
    "new_df"
   ]
  },
  {
   "cell_type": "markdown",
   "metadata": {},
   "source": [
    "### Functions Used"
   ]
  },
  {
   "cell_type": "code",
   "execution_count": 4,
   "metadata": {},
   "outputs": [],
   "source": [
    "def count(data, X):\n",
    "    m = data.shape[0]\n",
    "    \n",
    "    # For Condition = True\n",
    "    T_m = np.sum(data[:, 0] < X) \n",
    "    T_1 = np.sum(data[(data[:, 0] < X)][:, 1])\n",
    "    T_0 = T_m - T_1\n",
    "    \n",
    "    # For Condition = True\n",
    "    F_m = m - T_m\n",
    "    F_1 = np.sum(data[(data[:, 0] >= X)][:, 1])\n",
    "    F_0 = F_m - F_1\n",
    "    \n",
    "    \n",
    "    # Calculate P(1) and P(0)\n",
    "    P_T_1 = T_1 / T_m\n",
    "    P_T_0 = T_0 / T_m\n",
    "    \n",
    "    P_F_1 = F_1 / F_m\n",
    "    P_F_0 = F_0 / F_m\n",
    "    \n",
    "    return P_T_1, P_T_0, P_F_1, P_F_0, T_m, F_m\n",
    "\n",
    "    \n",
    "def GINI(P_1, P_0):\n",
    "    return (1 - P_1**2 - P_0**2)\n",
    "\n",
    "    \n",
    "def avg_GINI(T_m, F_m, G_T, G_F):\n",
    "    first = G_T * T_m / (T_m + F_m)\n",
    "    second = G_F * F_m / (T_m + F_m)\n",
    "    \n",
    "    return (first + second)\n",
    "    "
   ]
  },
  {
   "cell_type": "markdown",
   "metadata": {},
   "source": [
    "### Building the Decision Tree using GINI Impurity"
   ]
  },
  {
   "cell_type": "code",
   "execution_count": 5,
   "metadata": {
    "scrolled": true
   },
   "outputs": [
    {
     "name": "stdout",
     "output_type": "stream",
     "text": [
      "Optimal Age :  54.5\n",
      "Min GINI Impurity :  0.4558104848946434\n"
     ]
    }
   ],
   "source": [
    "optimalAge = 0\n",
    "optimalGINI = 2\n",
    "\n",
    "for i in range(302):\n",
    "    avg_age = (data[i, 0] + data[i+1, 0]) / 2\n",
    "    \n",
    "    P_T_1, P_T_0, P_F_1, P_F_0, T_m, F_m = count(data, avg_age)\n",
    "    \n",
    "    GINI_T = GINI(P_T_1, P_T_0)\n",
    "    GINI_F = GINI(P_F_1, P_F_0)\n",
    "    \n",
    "    avgGINI = avg_GINI(T_m, F_m, GINI_T, GINI_F)\n",
    "    \n",
    "    if avgGINI < optimalGINI:\n",
    "        optimalGINI = avgGINI\n",
    "        optimalAge = avg_age\n",
    "        \n",
    "print(\"Optimal Age : \", optimalAge)\n",
    "print('Min GINI Impurity : ', optimalGINI)"
   ]
  },
  {
   "cell_type": "markdown",
   "metadata": {},
   "source": [
    "------\n",
    "\n",
    "## Problem 2"
   ]
  },
  {
   "cell_type": "code",
   "execution_count": 6,
   "metadata": {},
   "outputs": [
    {
     "data": {
      "text/html": [
       "<div>\n",
       "<style scoped>\n",
       "    .dataframe tbody tr th:only-of-type {\n",
       "        vertical-align: middle;\n",
       "    }\n",
       "\n",
       "    .dataframe tbody tr th {\n",
       "        vertical-align: top;\n",
       "    }\n",
       "\n",
       "    .dataframe thead th {\n",
       "        text-align: right;\n",
       "    }\n",
       "</style>\n",
       "<table border=\"1\" class=\"dataframe\">\n",
       "  <thead>\n",
       "    <tr style=\"text-align: right;\">\n",
       "      <th></th>\n",
       "      <th>slope</th>\n",
       "      <th>num</th>\n",
       "    </tr>\n",
       "  </thead>\n",
       "  <tbody>\n",
       "    <tr>\n",
       "      <th>0</th>\n",
       "      <td>3</td>\n",
       "      <td>0</td>\n",
       "    </tr>\n",
       "    <tr>\n",
       "      <th>1</th>\n",
       "      <td>2</td>\n",
       "      <td>1</td>\n",
       "    </tr>\n",
       "    <tr>\n",
       "      <th>2</th>\n",
       "      <td>2</td>\n",
       "      <td>1</td>\n",
       "    </tr>\n",
       "    <tr>\n",
       "      <th>3</th>\n",
       "      <td>3</td>\n",
       "      <td>0</td>\n",
       "    </tr>\n",
       "    <tr>\n",
       "      <th>4</th>\n",
       "      <td>1</td>\n",
       "      <td>0</td>\n",
       "    </tr>\n",
       "  </tbody>\n",
       "</table>\n",
       "</div>"
      ],
      "text/plain": [
       "   slope  num\n",
       "0      3    0\n",
       "1      2    1\n",
       "2      2    1\n",
       "3      3    0\n",
       "4      1    0"
      ]
     },
     "execution_count": 6,
     "metadata": {},
     "output_type": "execute_result"
    }
   ],
   "source": [
    "new_df = hp[['slope', 'num']]\n",
    "data = new_df.to_numpy()\n",
    "\n",
    "new_df.head()"
   ]
  },
  {
   "cell_type": "markdown",
   "metadata": {},
   "source": [
    "### Functions Used"
   ]
  },
  {
   "cell_type": "code",
   "execution_count": 22,
   "metadata": {},
   "outputs": [],
   "source": [
    "def T_F(slope, num, X):\n",
    "    c = num[(slope == X)].shape[0]\n",
    "    T = np.sum(num[(slope == X)])\n",
    "    F = c - T\n",
    "\n",
    "    return T, F\n",
    "\n",
    "\n",
    "def Entropy(T, F):\n",
    "    P_T, P_F = T/(T+F), F/(T+F)\n",
    "    \n",
    "    E = -(P_T*math.log2(P_T) + P_F*math.log2(P_F))\n",
    "    \n",
    "    return E\n",
    "    \n",
    "    \n",
    "def Prob(X, c):\n",
    "    m = X.shape[0]\n",
    "    a = np.sum(X == c)\n",
    "    \n",
    "    return a/m\n",
    "    \n",
    "    \n",
    "def Multi_Entropy(num, slope):\n",
    "    m = slope.shape[0]\n",
    "    E_m = 0\n",
    "    \n",
    "    for i in range(1,4):\n",
    "        T, F = T_F(slope, num, i)\n",
    "        E_m += Prob(slope, i) * Entropy(T, F)\n",
    "    \n",
    "    return E_m\n",
    "    \n",
    "def Gain(num, slope):\n",
    "    m = num.shape[0]\n",
    "    T = np.sum(num == 1)\n",
    "    F = m - T\n",
    "    \n",
    "    G  = Entropy(T, F) - Multi_Entropy(num, slope)\n",
    "    \n",
    "    return G"
   ]
  },
  {
   "cell_type": "markdown",
   "metadata": {},
   "source": [
    "### Building the Decision Tree using information Gain"
   ]
  },
  {
   "cell_type": "code",
   "execution_count": 8,
   "metadata": {},
   "outputs": [
    {
     "name": "stdout",
     "output_type": "stream",
     "text": [
      "P(1) :  0.46864686468646866\n",
      "P(2) :  0.46204620462046203\n",
      "P(3) :  0.06930693069306931\n",
      "\n",
      "Em(slope) :  0.8826618526182525\n",
      "\n",
      "G(num, slope) :  0.11242190687472087\n"
     ]
    }
   ],
   "source": [
    "print(\"P(1) : \", Prob(data[:, 0], 1))\n",
    "print(\"P(2) : \", Prob(data[:, 0], 2))\n",
    "print(\"P(3) : \", Prob(data[:, 0], 3))\n",
    "\n",
    "print(\"\\nEm(slope) : \", Multi_Entropy(data[:, 1], data[:, 0]))\n",
    "\n",
    "print(\"\\nG(num, slope) : \", Gain(data[:, 1], data[:, 0]))"
   ]
  }
 ],
 "metadata": {
  "kernelspec": {
   "display_name": "Python 3",
   "language": "python",
   "name": "python3"
  },
  "language_info": {
   "codemirror_mode": {
    "name": "ipython",
    "version": 3
   },
   "file_extension": ".py",
   "mimetype": "text/x-python",
   "name": "python",
   "nbconvert_exporter": "python",
   "pygments_lexer": "ipython3",
   "version": "3.8.5"
  }
 },
 "nbformat": 4,
 "nbformat_minor": 4
}
