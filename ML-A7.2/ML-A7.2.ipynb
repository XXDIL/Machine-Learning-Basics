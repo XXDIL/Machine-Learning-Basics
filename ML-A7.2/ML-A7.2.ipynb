{
 "cells": [
  {
   "cell_type": "markdown",
   "metadata": {},
   "source": [
    "# ML Assignment 7.2\n",
    "\n",
    "**Objective: To learn how to train and predict a soft margin-SVM with RBF kernel using SMO algorithm.**\n",
    "\n",
    "1. Using the **Cleveland dataset** of heart disease with the following pre-processing and instructions:\n",
    "\n",
    "> Use only two features for simplicity : \n",
    "    - age (data in column #1)\n",
    "    - trestbps (data in column #4)\n",
    "\n",
    "> Modify the last column (# 14) \n",
    "    - from 1 (heart disease) & 0 (no heart disease) \n",
    "    - to Y(i)= {1 and -1}.\n",
    "\n",
    "> Apply feature scaling methods to the data of Col# 1 and Col# 4.\n",
    "\n",
    "> Use 70% data for training and 30% for testing.\n",
    "\n",
    "\n",
    "------\n",
    "\n",
    "### Importing Required Headers"
   ]
  },
  {
   "cell_type": "code",
   "execution_count": 1,
   "metadata": {},
   "outputs": [],
   "source": [
    "import numpy as np\n",
    "import matplotlib.pyplot as plt\n",
    "import pandas as pd\n",
    "import math\n",
    "import random\n",
    "import copy\n",
    "# to see the Training process clearly and know when the training will stop\n",
    "from IPython.display import clear_output"
   ]
  },
  {
   "cell_type": "markdown",
   "metadata": {},
   "source": [
    "### Utility Functions "
   ]
  },
  {
   "cell_type": "code",
   "execution_count": 2,
   "metadata": {},
   "outputs": [],
   "source": [
    "def featureScale(X, mu, sigma):\n",
    "    return (X - mu) / sigma**2\n",
    "\n",
    "def Normalize(X, a, b):\n",
    "    M, m = np.max(X), np.min(X)\n",
    "    X_norm = (b-a)*(X-m)/(M-m) + a\n",
    "    \n",
    "    return X_norm\n",
    "\n",
    "def clear():\n",
    "    os.system( 'cls' )"
   ]
  },
  {
   "cell_type": "markdown",
   "metadata": {},
   "source": [
    "### Data Pre Processing\n",
    "\n",
    "> **1. Using only 2 features** <br/>\n",
    "  **2. Setting the label to {-1, 1}**<br/>\n",
    "  **3. Splitting the data into 70:30**"
   ]
  },
  {
   "cell_type": "code",
   "execution_count": 3,
   "metadata": {
    "slideshow": {
     "slide_type": "-"
    }
   },
   "outputs": [
    {
     "name": "stdout",
     "output_type": "stream",
     "text": [
      "train_set size =  212\n",
      "test_set size =  91\n"
     ]
    },
    {
     "data": {
      "text/html": [
       "<div>\n",
       "<style scoped>\n",
       "    .dataframe tbody tr th:only-of-type {\n",
       "        vertical-align: middle;\n",
       "    }\n",
       "\n",
       "    .dataframe tbody tr th {\n",
       "        vertical-align: top;\n",
       "    }\n",
       "\n",
       "    .dataframe thead th {\n",
       "        text-align: right;\n",
       "    }\n",
       "</style>\n",
       "<table border=\"1\" class=\"dataframe\">\n",
       "  <thead>\n",
       "    <tr style=\"text-align: right;\">\n",
       "      <th></th>\n",
       "      <th>age</th>\n",
       "      <th>trestbps</th>\n",
       "      <th>num</th>\n",
       "    </tr>\n",
       "  </thead>\n",
       "  <tbody>\n",
       "    <tr>\n",
       "      <th>204</th>\n",
       "      <td>43</td>\n",
       "      <td>110</td>\n",
       "      <td>-1</td>\n",
       "    </tr>\n",
       "    <tr>\n",
       "      <th>159</th>\n",
       "      <td>68</td>\n",
       "      <td>118</td>\n",
       "      <td>-1</td>\n",
       "    </tr>\n",
       "    <tr>\n",
       "      <th>219</th>\n",
       "      <td>59</td>\n",
       "      <td>138</td>\n",
       "      <td>-1</td>\n",
       "    </tr>\n",
       "    <tr>\n",
       "      <th>174</th>\n",
       "      <td>64</td>\n",
       "      <td>145</td>\n",
       "      <td>1</td>\n",
       "    </tr>\n",
       "    <tr>\n",
       "      <th>184</th>\n",
       "      <td>60</td>\n",
       "      <td>158</td>\n",
       "      <td>1</td>\n",
       "    </tr>\n",
       "    <tr>\n",
       "      <th>295</th>\n",
       "      <td>41</td>\n",
       "      <td>120</td>\n",
       "      <td>-1</td>\n",
       "    </tr>\n",
       "    <tr>\n",
       "      <th>269</th>\n",
       "      <td>42</td>\n",
       "      <td>130</td>\n",
       "      <td>-1</td>\n",
       "    </tr>\n",
       "    <tr>\n",
       "      <th>119</th>\n",
       "      <td>65</td>\n",
       "      <td>135</td>\n",
       "      <td>1</td>\n",
       "    </tr>\n",
       "    <tr>\n",
       "      <th>193</th>\n",
       "      <td>62</td>\n",
       "      <td>138</td>\n",
       "      <td>1</td>\n",
       "    </tr>\n",
       "    <tr>\n",
       "      <th>154</th>\n",
       "      <td>64</td>\n",
       "      <td>120</td>\n",
       "      <td>1</td>\n",
       "    </tr>\n",
       "  </tbody>\n",
       "</table>\n",
       "</div>"
      ],
      "text/plain": [
       "     age  trestbps  num\n",
       "204   43       110   -1\n",
       "159   68       118   -1\n",
       "219   59       138   -1\n",
       "174   64       145    1\n",
       "184   60       158    1\n",
       "295   41       120   -1\n",
       "269   42       130   -1\n",
       "119   65       135    1\n",
       "193   62       138    1\n",
       "154   64       120    1"
      ]
     },
     "execution_count": 3,
     "metadata": {},
     "output_type": "execute_result"
    }
   ],
   "source": [
    "df = pd.read_csv('processed.cleveland.csv')\n",
    "df['num'].replace({0: -1}, inplace=True)\n",
    "new_df = df[['age', 'trestbps', 'num']]\n",
    "\n",
    "data_randomized = new_df.sample(frac=1, random_state=1)\n",
    "\n",
    "train_test_index = round(len(data_randomized) * 0.7)\n",
    "\n",
    "train_set = data_randomized[:train_test_index].reset_index(drop=True)\n",
    "test_set = data_randomized[train_test_index:].reset_index(drop=True)\n",
    "\n",
    "print('train_set size = ', train_set.shape[0])\n",
    "print('test_set size = ', test_set.shape[0])\n",
    "\n",
    "data_randomized.head(10)"
   ]
  },
  {
   "cell_type": "markdown",
   "metadata": {},
   "source": [
    "> **4. Randomization of the dataset**<br/>\n",
    "**5. Maintaining a Normal distribution**"
   ]
  },
  {
   "cell_type": "code",
   "execution_count": 4,
   "metadata": {},
   "outputs": [
    {
     "name": "stdout",
     "output_type": "stream",
     "text": [
      "\n",
      "\n",
      "ORIGINAL SET : \n",
      "-1    0.541254\n",
      " 1    0.458746\n",
      "Name: num, dtype: float64\n",
      "\n",
      "\n",
      "TRAIN SET : \n",
      "-1    0.556604\n",
      " 1    0.443396\n",
      "Name: num, dtype: float64\n",
      "\n",
      "\n",
      "TEST SET : \n",
      "-1    0.505495\n",
      " 1    0.494505\n",
      "Name: num, dtype: float64\n"
     ]
    }
   ],
   "source": [
    "print('\\n\\nORIGINAL SET : ')\n",
    "print(new_df['num'].value_counts(normalize=True))\n",
    "print('\\n\\nTRAIN SET : ')\n",
    "print(train_set['num'].value_counts(normalize=True))\n",
    "print('\\n\\nTEST SET : ')\n",
    "print(test_set['num'].value_counts(normalize=True))\n",
    "\n",
    "train_data = train_set.to_numpy()\n",
    "test_data = test_set.to_numpy()\n",
    "\n",
    "X_train = np.copy(train_data[:, :2])\n",
    "X_test = np.copy(test_data[:, :2])\n",
    "\n",
    "Y_train = np.copy(train_data[:, 2])\n",
    "Y_test = np.copy(test_data[:, 2])"
   ]
  },
  {
   "cell_type": "markdown",
   "metadata": {},
   "source": [
    "> **6. Feature Scaleing on the Dataset**"
   ]
  },
  {
   "cell_type": "code",
   "execution_count": 5,
   "metadata": {},
   "outputs": [],
   "source": [
    "mu = np.mean(X_train, axis=0)\n",
    "sigma = np.std(X_train, axis=0)\n",
    "\n",
    "X_train_norm = featureScale(X_train, mu, sigma)\n",
    "X_test_norm = featureScale(X_test, mu, sigma)"
   ]
  },
  {
   "cell_type": "markdown",
   "metadata": {},
   "source": [
    "### Data Visualiisation"
   ]
  },
  {
   "cell_type": "code",
   "execution_count": 6,
   "metadata": {},
   "outputs": [
    {
     "data": {
      "image/png": "[encoded data removed]",
      "text/plain": [
       "<Figure size 576x432 with 1 Axes>"
      ]
     },
     "metadata": {
      "needs_background": "light"
     },
     "output_type": "display_data"
    }
   ],
   "source": [
    "color = ['green' if i==1 else 'red' for i in Y_train]\n",
    "\n",
    "fig, ax = plt.subplots(figsize=(8,6))\n",
    "\n",
    "ax.scatter(X_train_norm[:, 0], X_train_norm[:, 1], c=color)\n",
    "\n",
    "plt.xlabel('Trestbps')\n",
    "plt.ylabel('Age')\n",
    "plt.xlim(-0.4, 0.4)\n",
    "plt.ylim(-0.3, 0.3)\n",
    "plt.show()"
   ]
  },
  {
   "cell_type": "markdown",
   "metadata": {},
   "source": [
    "### SVM Model Training "
   ]
  },
  {
   "cell_type": "code",
   "execution_count": 7,
   "metadata": {},
   "outputs": [],
   "source": [
    "def rbf_kernel(x1,x2,degree=1):\n",
    "    return ((np.dot(x1.T, x2) + 1)**degree)\n",
    "\n",
    "\n",
    "def predict_Test_Set(X, Y, alpha, b, T_test, sigma):\n",
    "    res = np.zeros((T_test.shape[0]))\n",
    "    \n",
    "    for i in range(X_test.shape[0]):\n",
    "        for j in range(X.shape[0]):\n",
    "            res[i] += (alpha[j]*Y[j]*rbf_kernel(X[j,:], X_test[i,:], sigma))\n",
    "            \n",
    "        res[i] += b\n",
    "    \n",
    "    return res\n",
    "\n",
    "def predict(X,Y,alpha,b,x,sigma):\n",
    "    '''\n",
    "    Input : \n",
    "        X     - Training Set\n",
    "        Y     - Training Set Labels\n",
    "        Alpha - Langrange Multiplier\n",
    "        b     - Bias \n",
    "        x     - Point under inspection\n",
    "        sigma - sigma\n",
    "    Return :\n",
    "        res   - Wi*X + bi\n",
    "    '''\n",
    "    result=0.0\n",
    "    for i in range(X.shape[0]):\n",
    "        result += (alpha[i]*Y[i]*rbf_kernel(X[i,:] , x,sigma))\n",
    "        \n",
    "    return result + b\n",
    "\n",
    "\n",
    "def SMO(X,Y,C=0.05,tol=math.pow(10,-3),max_passes=30,sigma=1):\n",
    "    ''' \n",
    "    Input : \n",
    "        X   - Input Matrix.\n",
    "        Y   - Label Matrix.\n",
    "        C   - Regularization Term. \n",
    "        tol - Numerical Tolerance. \n",
    "        max_passes - max # of times to iterate wihtout changing alpha's\n",
    "\n",
    "    Return : \n",
    "        Alpha   - Langrange Multiplier\n",
    "        b       - Bias\n",
    "    '''\n",
    "    alpha = np.zeros(shape=(X.shape[0],1))\n",
    "    b = 0.0\n",
    "    E = np.zeros(shape=(X.shape[0],1))\n",
    "    alpha_old = copy.deepcopy(alpha)\n",
    "    passes = 0\n",
    "    \n",
    "    while(passes < max_passes):\n",
    "        num_changed_alphas=0\n",
    "        for i in range(X.shape[0]):\n",
    "            E[i]=(predict(X,Y,alpha,b,X[i,:],sigma)-Y[i])\n",
    "\n",
    "            if ( (-Y[i]*E[i]>tol and alpha[i]<C) or (Y[i]*E[i]>tol and alpha[i]>0) ):\n",
    "                j=i\n",
    "                while j==i:\n",
    "                    j=random.randrange(X.shape[0])\n",
    "\n",
    "                E[j] = (predict(X,Y,alpha,b,X[j,:],sigma)-Y[j])\n",
    "\n",
    "                alpha_old[i], alpha_old[j] = alpha[i], alpha[j]\n",
    "\n",
    "                # calculating L and H\n",
    "                if(Y[i]!=Y[j]):\n",
    "                    L = max(0,alpha[j]-alpha[i])\n",
    "                    H = min(C,C+alpha[j]-alpha[i])\n",
    "                else:\n",
    "                    L = max(0,alpha[i]+alpha[j]-C)\n",
    "                    H = min(C,alpha[i]+alpha[j])\n",
    "\n",
    "                if(L == H): continue\n",
    "                \n",
    "                # Find the ETA\n",
    "                eta = 2*rbf_kernel(X[i,:],X[j,:],sigma)\n",
    "                eta=eta-rbf_kernel(X[i,:],X[i,:],sigma)\n",
    "                eta=eta-rbf_kernel(X[j,:],X[j,:],sigma)\n",
    "\n",
    "                if(eta >= 0): continue\n",
    "\n",
    "                alpha[j] = alpha_old[j] - (Y[j]*(E[i]-E[j]))/eta\n",
    "\n",
    "                if (alpha[j] > H): alpha[j] = H\n",
    "                elif (alpha[j] < L): alpha[j] = L\n",
    "                else: pass\n",
    "\n",
    "                if(abs(alpha[j]-alpha_old[j]) < tol): continue\n",
    "                \n",
    "                # Update alpha\n",
    "                alpha[i] += (Y[i]*Y[j]*(alpha_old[j] - alpha[j]))\n",
    "\n",
    "                ii = rbf_kernel(X[i,:], X[i,:], sigma)\n",
    "                ij = rbf_kernel(X[i,:], X[j,:], sigma)\n",
    "                jj = rbf_kernel(X[j,:], X[j,:], sigma)\n",
    "                \n",
    "                # Calculate the bias\n",
    "                b1 = b - E[i] - (Y[i]*ii*(alpha[i]-alpha_old[i])) - (Y[j]*ij*(alpha[j]-alpha_old[j]))\n",
    "                b2 = b - E[j] - (Y[i]*ij*(alpha[i]-alpha_old[i])) - (Y[j]*jj*(alpha[j]-alpha_old[j]))\n",
    "                   \n",
    "                if (alpha[i] > 0 and alpha[i] < C): b = b1\n",
    "                elif (alpha[j] > 0 and alpha[j] < C): b = b2\n",
    "                else: b = (b1+b2)/2.0\n",
    "\n",
    "                num_changed_alphas += 1\n",
    "                \n",
    "        if (num_changed_alphas == 0):\n",
    "            passes+=1\n",
    "            print(passes, end=' ')\n",
    "        else: \n",
    "            passes=0\n",
    "            clear_output(wait=True) # to see its progress in each pass\n",
    "\n",
    "    return alpha, b"
   ]
  },
  {
   "cell_type": "code",
   "execution_count": 8,
   "metadata": {},
   "outputs": [
    {
     "name": "stdout",
     "output_type": "stream",
     "text": [
      "1 2 3 4 5 6 7 8 9 10 11 12 13 14 15 16 17 18 19 20 21 22 23 24 25 26 27 28 29 30 "
     ]
    }
   ],
   "source": [
    "alpha, b = SMO(X_train_norm, Y_train)"
   ]
  },
  {
   "cell_type": "markdown",
   "metadata": {},
   "source": [
    "### Model Testing"
   ]
  },
  {
   "cell_type": "code",
   "execution_count": 9,
   "metadata": {},
   "outputs": [
    {
     "name": "stdout",
     "output_type": "stream",
     "text": [
      "Test Set Accuracy =  63.7363 %\n"
     ]
    }
   ],
   "source": [
    "res = predict_Test_Set(X_train_norm, Y_train, alpha, b, X_test, 1)\n",
    "res_norm = Normalize(res, -1, 1)\n",
    "\n",
    "result = (res_norm < 0)\n",
    "test = (Y_test==-1)\n",
    "\n",
    "sum = 0\n",
    "for i in range(result.shape[0]):\n",
    "    sum += 1*(result[i]==test[i])\n",
    "    \n",
    "print('Test Set Accuracy = ', round(100*sum/91, 4), '%')"
   ]
  }
 ],
 "metadata": {
  "kernelspec": {
   "display_name": "Python 3",
   "language": "python",
   "name": "python3"
  },
  "language_info": {
   "codemirror_mode": {
    "name": "ipython",
    "version": 3
   },
   "file_extension": ".py",
   "mimetype": "text/x-python",
   "name": "python",
   "nbconvert_exporter": "python",
   "pygments_lexer": "ipython3",
   "version": "3.8.5"
  }
 },
 "nbformat": 4,
 "nbformat_minor": 4
}
