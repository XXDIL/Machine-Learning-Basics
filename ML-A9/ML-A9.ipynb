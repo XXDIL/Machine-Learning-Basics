{
 "cells": [
  {
   "cell_type": "markdown",
   "metadata": {},
   "source": [
    "# ML Assignment 9\n",
    "\n",
    "**A Bidirectional Associative Memory(BAM) is required to store the following  M = 4 pairs of patterns:**\n",
    "\n",
    "\n",
    "**Set A:**  \n",
    "- X1 = [1 1 1 1 1 1]\n",
    "- X2 = [-1 -1 -1 -1 -1 -1]\n",
    "- X3 = [1 -1 -1 1 1 1]\n",
    "- X4 = [1 1 -1 -1 -1 -1]\n",
    "\n",
    "\n",
    "**Set B:**\n",
    "- Y1 = [1 1 1]\n",
    "- Y2 = [-1 -1 -1]\n",
    "- Y3 = [-1 1 1]\n",
    "- Y4 = [1 -1 1]\n",
    "\n",
    "**Using BAM algorithm, train a W matrix for BAM which can retrieve all the above mentioned 4 pairs.**\n",
    "\n",
    "**Hence test the level of weight corrections of the BAM with examples.**\n",
    "\n",
    "------\n",
    "\n",
    "### Importing Required Headers"
   ]
  },
  {
   "cell_type": "code",
   "execution_count": 1,
   "metadata": {},
   "outputs": [],
   "source": [
    "import numpy as np"
   ]
  },
  {
   "cell_type": "markdown",
   "metadata": {},
   "source": [
    "### Initializing the Matrices"
   ]
  },
  {
   "cell_type": "code",
   "execution_count": 2,
   "metadata": {},
   "outputs": [
    {
     "name": "stdout",
     "output_type": "stream",
     "text": [
      "X shape =  (4, 6)\n",
      "Y shape =  (4, 3)\n"
     ]
    }
   ],
   "source": [
    "X = np.array([[1, 1, 1, 1, 1, 1],\n",
    "              [-1, -1, -1, -1, -1, -1],\n",
    "              [1, -1, -1, 1, 1, 1],\n",
    "              [1, 1, -1, -1, -1, -1]])\n",
    "\n",
    "\n",
    "Y = np.array([[1, 1, 1],\n",
    "              [-1, -1, -1],\n",
    "              [-1, 1, 1],\n",
    "              [1, -1, 1]])\n",
    "\n",
    "print(\"X shape = \", X.shape)\n",
    "print(\"Y shape = \", Y.shape)"
   ]
  },
  {
   "cell_type": "markdown",
   "metadata": {},
   "source": [
    "### Calculating the W matrix\n",
    "\n",
    "If You want to calculate it using a **for loop** : \n",
    "\n",
    "$\n",
    "    W = \\sum_{i=1}^{4} W_{i} \\\\\n",
    "    where :  W_i = X_i^T * Y_i\n",
    "$\n",
    "\n",
    "If you want to use **vectorised implementation** : \n",
    "\n",
    "$\n",
    "    W = X^T * Y\n",
    "$"
   ]
  },
  {
   "cell_type": "code",
   "execution_count": 3,
   "metadata": {},
   "outputs": [
    {
     "name": "stdout",
     "output_type": "stream",
     "text": [
      "W = \n",
      " [[2 2 4]\n",
      " [4 0 2]\n",
      " [2 2 0]\n",
      " [0 4 2]\n",
      " [0 4 2]\n",
      " [0 4 2]]\n"
     ]
    }
   ],
   "source": [
    "W = np.dot(X.T, Y)\n",
    "print('W = \\n', W)"
   ]
  },
  {
   "cell_type": "markdown",
   "metadata": {},
   "source": [
    "### Activation function\n",
    "\n",
    "There are 2 main types of activation functions : \n",
    "\n",
    "**Binary :**\n",
    "\n",
    "$\n",
    "bin(y_{in}) = \\left\\{\n",
    "    \\begin{array}\\\\\n",
    "        1 , & \\mbox{if } \\ y_{in} > 0 \\\\\n",
    "        0 , & \\mbox{if } \\ y_{in} < 0 \\\\\n",
    "        y_{in} , & \\mbox{if } \\ y_{in} = 0\n",
    "    \\end{array}\n",
    "\\right.\n",
    "$\n",
    "\n",
    "**Bi-polar :**\n",
    "\n",
    "$\n",
    "bipolar(y_{in}) = \\left\\{\n",
    "    \\begin{array}\\\\\n",
    "        1 , & \\mbox{if } \\ y_{in} > 0 \\\\\n",
    "        y_{in} , & \\mbox{if } \\ y_{in} = 0 \\\\\n",
    "        -1 , & \\mbox{if } \\ y_{in} < 0\n",
    "    \\end{array}\n",
    "\\right.\n",
    "$\n",
    "\n",
    "**NOTE : I will be using the bipolar activation as the output demands it.**"
   ]
  },
  {
   "cell_type": "code",
   "execution_count": 4,
   "metadata": {},
   "outputs": [],
   "source": [
    "def forward_activation(z):\n",
    "    z = np.array(z)\n",
    "    a = np.sign(z)\n",
    "    a = a + (1*(a==0))\n",
    "    \n",
    "    return a\n",
    "\n",
    "def backward_activation(z):\n",
    "    z = np.array(z)\n",
    "    a = np.sign(z)\n",
    "    a = a - (1*(a==0))\n",
    "    \n",
    "    return a"
   ]
  },
  {
   "cell_type": "markdown",
   "metadata": {},
   "source": [
    "### Forward Checking\n",
    "\n",
    "$ Y_{in} = bipolar(X*W) $"
   ]
  },
  {
   "cell_type": "code",
   "execution_count": 5,
   "metadata": {},
   "outputs": [
    {
     "name": "stdout",
     "output_type": "stream",
     "text": [
      "Y[0]    -  [1 1 1]\n",
      "Y_in[0] -  [1 1 1] \n",
      "\n",
      "Y[1]    -  [-1 -1 -1]\n",
      "Y_in[1] -  [-1 -1 -1] \n",
      "\n",
      "Y[2]    -  [-1  1  1]\n",
      "Y_in[2] -  [-1  1  1] \n",
      "\n",
      "Y[3]    -  [ 1 -1  1]\n",
      "Y_in[3] -  [ 1 -1  1] \n",
      "\n"
     ]
    }
   ],
   "source": [
    "Y_in = forward_activation(np.dot(X, W))\n",
    "\n",
    "for i in range(4):\n",
    "    print(\"Y[\"+ str(i) +\"]    - \", Y[i, :])\n",
    "    print(\"Y_in[\"+ str(i) +\"] - \", Y_in[i, :], '\\n')"
   ]
  },
  {
   "cell_type": "markdown",
   "metadata": {},
   "source": [
    "### Backward Checking\n",
    "\n",
    "$ X_{in} = bipolar(Y*W^T) $"
   ]
  },
  {
   "cell_type": "code",
   "execution_count": 6,
   "metadata": {},
   "outputs": [
    {
     "name": "stdout",
     "output_type": "stream",
     "text": [
      "X[0]    -  [1 1 1 1 1 1]\n",
      "X_in[0] -  [1 1 1 1 1 1] \n",
      "\n",
      "X[1]    -  [-1 -1 -1 -1 -1 -1]\n",
      "X_in[1] -  [-1 -1 -1 -1 -1 -1] \n",
      "\n",
      "X[2]    -  [ 1 -1 -1  1  1  1]\n",
      "X_in[2] -  [ 1 -1 -1  1  1  1] \n",
      "\n",
      "X[3]    -  [ 1  1 -1 -1 -1 -1]\n",
      "X_in[3] -  [ 1  1 -1 -1 -1 -1] \n",
      "\n"
     ]
    }
   ],
   "source": [
    "X_in = backward_activation(np.dot(Y, W.T))\n",
    "\n",
    "for i in range(4):\n",
    "    print(\"X[\"+ str(i) +\"]    - \", X[i, :])\n",
    "    print(\"X_in[\"+ str(i) +\"] - \", X_in[i, :], '\\n')"
   ]
  },
  {
   "cell_type": "markdown",
   "metadata": {},
   "source": [
    "------\n",
    "\n",
    "**As we can see the predictions and the expectations are exactly the same, implying that BAM works perfectly**"
   ]
  }
 ],
 "metadata": {
  "kernelspec": {
   "display_name": "Python 3",
   "language": "python",
   "name": "python3"
  },
  "language_info": {
   "codemirror_mode": {
    "name": "ipython",
    "version": 3
   },
   "file_extension": ".py",
   "mimetype": "text/x-python",
   "name": "python",
   "nbconvert_exporter": "python",
   "pygments_lexer": "ipython3",
   "version": "3.8.5"
  }
 },
 "nbformat": 4,
 "nbformat_minor": 4
}
