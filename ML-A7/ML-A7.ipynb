{
 "cells": [
  {
   "cell_type": "markdown",
   "metadata": {},
   "source": [
    "# ML Assignment 7\n",
    "\n",
    "------\n",
    "\n",
    "**Design a Naïve Bayes classifier for filtering Spam and Ham (Normal) messages. Make a comparative study on the performance of all the three models of Naïve Bayes classifier.** \n",
    "\n",
    "1) **[Gaussian](#Gaussian-NB):** For features following a normal distribution.<br/>\n",
    "2) **[Multinomial](#Multinomial-NB):** For discrete counts.<br/>\n",
    "3) **[Bernoulli](#Bernoulli-NB):** for binary feature vectors\n",
    "\n",
    "**The SMS data set together with readme file is from UCI Machine Learning Repository.**\n",
    "\n",
    "------\n",
    "\n",
    "### Importing the Required hearder"
   ]
  },
  {
   "cell_type": "code",
   "execution_count": 1,
   "metadata": {},
   "outputs": [],
   "source": [
    "import numpy as np\n",
    "import pandas as pd\n",
    "import matplotlib.pyplot as plt\n",
    "import math\n",
    "import string"
   ]
  },
  {
   "cell_type": "markdown",
   "metadata": {},
   "source": [
    "------\n",
    "### Loading Data"
   ]
  },
  {
   "cell_type": "code",
   "execution_count": 2,
   "metadata": {
    "scrolled": true
   },
   "outputs": [
    {
     "data": {
      "text/html": [
       "<div>\n",
       "<style scoped>\n",
       "    .dataframe tbody tr th:only-of-type {\n",
       "        vertical-align: middle;\n",
       "    }\n",
       "\n",
       "    .dataframe tbody tr th {\n",
       "        vertical-align: top;\n",
       "    }\n",
       "\n",
       "    .dataframe thead th {\n",
       "        text-align: right;\n",
       "    }\n",
       "</style>\n",
       "<table border=\"1\" class=\"dataframe\">\n",
       "  <thead>\n",
       "    <tr style=\"text-align: right;\">\n",
       "      <th></th>\n",
       "      <th>label</th>\n",
       "      <th>Text</th>\n",
       "    </tr>\n",
       "  </thead>\n",
       "  <tbody>\n",
       "    <tr>\n",
       "      <th>0</th>\n",
       "      <td>0</td>\n",
       "      <td>Go until jurong point, crazy.. Available only ...</td>\n",
       "    </tr>\n",
       "    <tr>\n",
       "      <th>1</th>\n",
       "      <td>0</td>\n",
       "      <td>Ok lar... Joking wif u oni...</td>\n",
       "    </tr>\n",
       "    <tr>\n",
       "      <th>2</th>\n",
       "      <td>1</td>\n",
       "      <td>Free entry in 2 a wkly comp to win FA Cup fina...</td>\n",
       "    </tr>\n",
       "    <tr>\n",
       "      <th>3</th>\n",
       "      <td>0</td>\n",
       "      <td>U dun say so early hor... U c already then say...</td>\n",
       "    </tr>\n",
       "    <tr>\n",
       "      <th>4</th>\n",
       "      <td>0</td>\n",
       "      <td>Nah I don't think he goes to usf, he lives aro...</td>\n",
       "    </tr>\n",
       "  </tbody>\n",
       "</table>\n",
       "</div>"
      ],
      "text/plain": [
       "   label                                               Text\n",
       "0      0  Go until jurong point, crazy.. Available only ...\n",
       "1      0                      Ok lar... Joking wif u oni...\n",
       "2      1  Free entry in 2 a wkly comp to win FA Cup fina...\n",
       "3      0  U dun say so early hor... U c already then say...\n",
       "4      0  Nah I don't think he goes to usf, he lives aro..."
      ]
     },
     "execution_count": 2,
     "metadata": {},
     "output_type": "execute_result"
    }
   ],
   "source": [
    "sms = pd.read_csv('SMSSpamCollection.csv', sep='\\t')\n",
    "sms['label'].replace({\"ham\": 0, \"spam\": 1}, inplace=True)\n",
    "sms.head(5)"
   ]
  },
  {
   "cell_type": "markdown",
   "metadata": {},
   "source": [
    "------\n",
    "### Randomize the data"
   ]
  },
  {
   "cell_type": "code",
   "execution_count": 3,
   "metadata": {},
   "outputs": [
    {
     "name": "stdout",
     "output_type": "stream",
     "text": [
      "(4458, 2)\n",
      "(1114, 2)\n"
     ]
    }
   ],
   "source": [
    "data_randomized = sms.sample(frac=1, random_state=1)\n",
    "\n",
    "train_test_index = round(len(data_randomized) * 0.8)\n",
    "\n",
    "train_set = data_randomized[:train_test_index].reset_index(drop=True)\n",
    "test_set = data_randomized[train_test_index:].reset_index(drop=True)\n",
    "\n",
    "print(train_set.shape)\n",
    "print(test_set.shape)"
   ]
  },
  {
   "cell_type": "markdown",
   "metadata": {},
   "source": [
    "------\n",
    "### Distribution of Original, Train and Test set."
   ]
  },
  {
   "cell_type": "code",
   "execution_count": 4,
   "metadata": {},
   "outputs": [
    {
     "name": "stdout",
     "output_type": "stream",
     "text": [
      "ORIGINAL SET : \n",
      "0    0.865937\n",
      "1    0.134063\n",
      "Name: label, dtype: float64\n",
      "\n",
      "\n",
      "TRAIN SET : \n",
      "0    0.86541\n",
      "1    0.13459\n",
      "Name: label, dtype: float64\n",
      "\n",
      "\n",
      "TEST SET : \n",
      "0    0.868043\n",
      "1    0.131957\n",
      "Name: label, dtype: float64\n"
     ]
    }
   ],
   "source": [
    "print('ORIGINAL SET : ')\n",
    "print(sms['label'].value_counts(normalize=True))\n",
    "print('\\n\\nTRAIN SET : ')\n",
    "print(train_set['label'].value_counts(normalize=True))\n",
    "print('\\n\\nTEST SET : ')\n",
    "print(test_set['label'].value_counts(normalize=True))"
   ]
  },
  {
   "cell_type": "markdown",
   "metadata": {},
   "source": [
    "------\n",
    "### Data Preprocessing\n",
    "\n",
    "#### Removing punctiations and caps"
   ]
  },
  {
   "cell_type": "code",
   "execution_count": 5,
   "metadata": {
    "scrolled": true
   },
   "outputs": [
    {
     "name": "stdout",
     "output_type": "stream",
     "text": [
      "Before change : \n",
      "\n"
     ]
    },
    {
     "data": {
      "text/html": [
       "<div>\n",
       "<style scoped>\n",
       "    .dataframe tbody tr th:only-of-type {\n",
       "        vertical-align: middle;\n",
       "    }\n",
       "\n",
       "    .dataframe tbody tr th {\n",
       "        vertical-align: top;\n",
       "    }\n",
       "\n",
       "    .dataframe thead th {\n",
       "        text-align: right;\n",
       "    }\n",
       "</style>\n",
       "<table border=\"1\" class=\"dataframe\">\n",
       "  <thead>\n",
       "    <tr style=\"text-align: right;\">\n",
       "      <th></th>\n",
       "      <th>label</th>\n",
       "      <th>Text</th>\n",
       "    </tr>\n",
       "  </thead>\n",
       "  <tbody>\n",
       "    <tr>\n",
       "      <th>0</th>\n",
       "      <td>0</td>\n",
       "      <td>Yep, by the pretty sculpture</td>\n",
       "    </tr>\n",
       "    <tr>\n",
       "      <th>1</th>\n",
       "      <td>0</td>\n",
       "      <td>Yes, princess. Are you going to make me moan?</td>\n",
       "    </tr>\n",
       "    <tr>\n",
       "      <th>2</th>\n",
       "      <td>0</td>\n",
       "      <td>Welp apparently he retired</td>\n",
       "    </tr>\n",
       "    <tr>\n",
       "      <th>3</th>\n",
       "      <td>0</td>\n",
       "      <td>Havent.</td>\n",
       "    </tr>\n",
       "    <tr>\n",
       "      <th>4</th>\n",
       "      <td>0</td>\n",
       "      <td>I forgot 2 ask ü all smth.. There's a card on ...</td>\n",
       "    </tr>\n",
       "  </tbody>\n",
       "</table>\n",
       "</div>"
      ],
      "text/plain": [
       "   label                                               Text\n",
       "0      0                       Yep, by the pretty sculpture\n",
       "1      0      Yes, princess. Are you going to make me moan?\n",
       "2      0                         Welp apparently he retired\n",
       "3      0                                            Havent.\n",
       "4      0  I forgot 2 ask ü all smth.. There's a card on ..."
      ]
     },
     "execution_count": 5,
     "metadata": {},
     "output_type": "execute_result"
    }
   ],
   "source": [
    "print('Before change : \\n')\n",
    "train_set.head(5)"
   ]
  },
  {
   "cell_type": "code",
   "execution_count": 6,
   "metadata": {},
   "outputs": [
    {
     "data": {
      "text/html": [
       "<div>\n",
       "<style scoped>\n",
       "    .dataframe tbody tr th:only-of-type {\n",
       "        vertical-align: middle;\n",
       "    }\n",
       "\n",
       "    .dataframe tbody tr th {\n",
       "        vertical-align: top;\n",
       "    }\n",
       "\n",
       "    .dataframe thead th {\n",
       "        text-align: right;\n",
       "    }\n",
       "</style>\n",
       "<table border=\"1\" class=\"dataframe\">\n",
       "  <thead>\n",
       "    <tr style=\"text-align: right;\">\n",
       "      <th></th>\n",
       "      <th>label</th>\n",
       "      <th>Text</th>\n",
       "    </tr>\n",
       "  </thead>\n",
       "  <tbody>\n",
       "    <tr>\n",
       "      <th>0</th>\n",
       "      <td>0</td>\n",
       "      <td>yep  by the pretty sculpture</td>\n",
       "    </tr>\n",
       "    <tr>\n",
       "      <th>1</th>\n",
       "      <td>0</td>\n",
       "      <td>yes  princess  are you going to make me moan</td>\n",
       "    </tr>\n",
       "    <tr>\n",
       "      <th>2</th>\n",
       "      <td>0</td>\n",
       "      <td>welp apparently he retired</td>\n",
       "    </tr>\n",
       "    <tr>\n",
       "      <th>3</th>\n",
       "      <td>0</td>\n",
       "      <td>havent</td>\n",
       "    </tr>\n",
       "    <tr>\n",
       "      <th>4</th>\n",
       "      <td>0</td>\n",
       "      <td>i forgot 2 ask ü all smth   there s a card on ...</td>\n",
       "    </tr>\n",
       "  </tbody>\n",
       "</table>\n",
       "</div>"
      ],
      "text/plain": [
       "   label                                               Text\n",
       "0      0                       yep  by the pretty sculpture\n",
       "1      0      yes  princess  are you going to make me moan \n",
       "2      0                         welp apparently he retired\n",
       "3      0                                            havent \n",
       "4      0  i forgot 2 ask ü all smth   there s a card on ..."
      ]
     },
     "execution_count": 6,
     "metadata": {},
     "output_type": "execute_result"
    }
   ],
   "source": [
    "train_set['Text'] = train_set['Text'].str.replace('\\W', ' ')\n",
    "train_set['Text'] = train_set['Text'].str.lower()\n",
    "train_set.head(5)"
   ]
  },
  {
   "cell_type": "markdown",
   "metadata": {},
   "source": [
    "#### Making the dictionary (containing the words)"
   ]
  },
  {
   "cell_type": "code",
   "execution_count": 7,
   "metadata": {},
   "outputs": [
    {
     "name": "stdout",
     "output_type": "stream",
     "text": [
      "Number of Unique words in the dataset :  7783\n"
     ]
    }
   ],
   "source": [
    "words = []\n",
    "train_set['Text'] = train_set['Text'].str.split()\n",
    "\n",
    "for i in train_set['Text']:\n",
    "    for j in i:\n",
    "        words.append(j)\n",
    "\n",
    "words = list(set(words)) # making the words unique and sorted\n",
    "\n",
    "print('Number of Unique words in the dataset : ', len(words))"
   ]
  },
  {
   "cell_type": "code",
   "execution_count": 8,
   "metadata": {},
   "outputs": [],
   "source": [
    "f = {w: [0] * len(train_set['Text']) for w in words}\n",
    "\n",
    "for i, text in enumerate(train_set['Text']):\n",
    "    for word in text:\n",
    "        f[word][i] += 1"
   ]
  },
  {
   "cell_type": "code",
   "execution_count": 9,
   "metadata": {},
   "outputs": [
    {
     "data": {
      "text/html": [
       "<div>\n",
       "<style scoped>\n",
       "    .dataframe tbody tr th:only-of-type {\n",
       "        vertical-align: middle;\n",
       "    }\n",
       "\n",
       "    .dataframe tbody tr th {\n",
       "        vertical-align: top;\n",
       "    }\n",
       "\n",
       "    .dataframe thead th {\n",
       "        text-align: right;\n",
       "    }\n",
       "</style>\n",
       "<table border=\"1\" class=\"dataframe\">\n",
       "  <thead>\n",
       "    <tr style=\"text-align: right;\">\n",
       "      <th></th>\n",
       "      <th>terrorist</th>\n",
       "      <th>europe</th>\n",
       "      <th>jane</th>\n",
       "      <th>09111030116</th>\n",
       "      <th>athletic</th>\n",
       "      <th>road</th>\n",
       "      <th>100p</th>\n",
       "      <th>causing</th>\n",
       "      <th>appeal</th>\n",
       "      <th>tv</th>\n",
       "      <th>...</th>\n",
       "      <th>waaaat</th>\n",
       "      <th>ericsson</th>\n",
       "      <th>greatest</th>\n",
       "      <th>100percent</th>\n",
       "      <th>09064012160</th>\n",
       "      <th>prediction</th>\n",
       "      <th>pm</th>\n",
       "      <th>html</th>\n",
       "      <th>first</th>\n",
       "      <th>60</th>\n",
       "    </tr>\n",
       "  </thead>\n",
       "  <tbody>\n",
       "    <tr>\n",
       "      <th>0</th>\n",
       "      <td>0</td>\n",
       "      <td>0</td>\n",
       "      <td>0</td>\n",
       "      <td>0</td>\n",
       "      <td>0</td>\n",
       "      <td>0</td>\n",
       "      <td>0</td>\n",
       "      <td>0</td>\n",
       "      <td>0</td>\n",
       "      <td>0</td>\n",
       "      <td>...</td>\n",
       "      <td>0</td>\n",
       "      <td>0</td>\n",
       "      <td>0</td>\n",
       "      <td>0</td>\n",
       "      <td>0</td>\n",
       "      <td>0</td>\n",
       "      <td>0</td>\n",
       "      <td>0</td>\n",
       "      <td>0</td>\n",
       "      <td>0</td>\n",
       "    </tr>\n",
       "    <tr>\n",
       "      <th>1</th>\n",
       "      <td>0</td>\n",
       "      <td>0</td>\n",
       "      <td>0</td>\n",
       "      <td>0</td>\n",
       "      <td>0</td>\n",
       "      <td>0</td>\n",
       "      <td>0</td>\n",
       "      <td>0</td>\n",
       "      <td>0</td>\n",
       "      <td>0</td>\n",
       "      <td>...</td>\n",
       "      <td>0</td>\n",
       "      <td>0</td>\n",
       "      <td>0</td>\n",
       "      <td>0</td>\n",
       "      <td>0</td>\n",
       "      <td>0</td>\n",
       "      <td>0</td>\n",
       "      <td>0</td>\n",
       "      <td>0</td>\n",
       "      <td>0</td>\n",
       "    </tr>\n",
       "    <tr>\n",
       "      <th>2</th>\n",
       "      <td>0</td>\n",
       "      <td>0</td>\n",
       "      <td>0</td>\n",
       "      <td>0</td>\n",
       "      <td>0</td>\n",
       "      <td>0</td>\n",
       "      <td>0</td>\n",
       "      <td>0</td>\n",
       "      <td>0</td>\n",
       "      <td>0</td>\n",
       "      <td>...</td>\n",
       "      <td>0</td>\n",
       "      <td>0</td>\n",
       "      <td>0</td>\n",
       "      <td>0</td>\n",
       "      <td>0</td>\n",
       "      <td>0</td>\n",
       "      <td>0</td>\n",
       "      <td>0</td>\n",
       "      <td>0</td>\n",
       "      <td>0</td>\n",
       "    </tr>\n",
       "    <tr>\n",
       "      <th>3</th>\n",
       "      <td>0</td>\n",
       "      <td>0</td>\n",
       "      <td>0</td>\n",
       "      <td>0</td>\n",
       "      <td>0</td>\n",
       "      <td>0</td>\n",
       "      <td>0</td>\n",
       "      <td>0</td>\n",
       "      <td>0</td>\n",
       "      <td>0</td>\n",
       "      <td>...</td>\n",
       "      <td>0</td>\n",
       "      <td>0</td>\n",
       "      <td>0</td>\n",
       "      <td>0</td>\n",
       "      <td>0</td>\n",
       "      <td>0</td>\n",
       "      <td>0</td>\n",
       "      <td>0</td>\n",
       "      <td>0</td>\n",
       "      <td>0</td>\n",
       "    </tr>\n",
       "    <tr>\n",
       "      <th>4</th>\n",
       "      <td>0</td>\n",
       "      <td>0</td>\n",
       "      <td>0</td>\n",
       "      <td>0</td>\n",
       "      <td>0</td>\n",
       "      <td>0</td>\n",
       "      <td>0</td>\n",
       "      <td>0</td>\n",
       "      <td>0</td>\n",
       "      <td>0</td>\n",
       "      <td>...</td>\n",
       "      <td>0</td>\n",
       "      <td>0</td>\n",
       "      <td>0</td>\n",
       "      <td>0</td>\n",
       "      <td>0</td>\n",
       "      <td>0</td>\n",
       "      <td>0</td>\n",
       "      <td>0</td>\n",
       "      <td>0</td>\n",
       "      <td>0</td>\n",
       "    </tr>\n",
       "  </tbody>\n",
       "</table>\n",
       "<p>5 rows × 7783 columns</p>\n",
       "</div>"
      ],
      "text/plain": [
       "   terrorist  europe  jane  09111030116  athletic  road  100p  causing  \\\n",
       "0          0       0     0            0         0     0     0        0   \n",
       "1          0       0     0            0         0     0     0        0   \n",
       "2          0       0     0            0         0     0     0        0   \n",
       "3          0       0     0            0         0     0     0        0   \n",
       "4          0       0     0            0         0     0     0        0   \n",
       "\n",
       "   appeal  tv  ...  waaaat  ericsson  greatest  100percent  09064012160  \\\n",
       "0       0   0  ...       0         0         0           0            0   \n",
       "1       0   0  ...       0         0         0           0            0   \n",
       "2       0   0  ...       0         0         0           0            0   \n",
       "3       0   0  ...       0         0         0           0            0   \n",
       "4       0   0  ...       0         0         0           0            0   \n",
       "\n",
       "   prediction  pm  html  first  60  \n",
       "0           0   0     0      0   0  \n",
       "1           0   0     0      0   0  \n",
       "2           0   0     0      0   0  \n",
       "3           0   0     0      0   0  \n",
       "4           0   0     0      0   0  \n",
       "\n",
       "[5 rows x 7783 columns]"
      ]
     },
     "execution_count": 9,
     "metadata": {},
     "output_type": "execute_result"
    }
   ],
   "source": [
    "word_counts = pd.DataFrame(f)\n",
    "word_counts.head()"
   ]
  },
  {
   "cell_type": "markdown",
   "metadata": {},
   "source": [
    "#### Final dataset to be used"
   ]
  },
  {
   "cell_type": "code",
   "execution_count": 10,
   "metadata": {},
   "outputs": [
    {
     "data": {
      "text/html": [
       "<div>\n",
       "<style scoped>\n",
       "    .dataframe tbody tr th:only-of-type {\n",
       "        vertical-align: middle;\n",
       "    }\n",
       "\n",
       "    .dataframe tbody tr th {\n",
       "        vertical-align: top;\n",
       "    }\n",
       "\n",
       "    .dataframe thead th {\n",
       "        text-align: right;\n",
       "    }\n",
       "</style>\n",
       "<table border=\"1\" class=\"dataframe\">\n",
       "  <thead>\n",
       "    <tr style=\"text-align: right;\">\n",
       "      <th></th>\n",
       "      <th>label</th>\n",
       "      <th>Text</th>\n",
       "      <th>terrorist</th>\n",
       "      <th>europe</th>\n",
       "      <th>jane</th>\n",
       "      <th>09111030116</th>\n",
       "      <th>athletic</th>\n",
       "      <th>road</th>\n",
       "      <th>100p</th>\n",
       "      <th>causing</th>\n",
       "      <th>...</th>\n",
       "      <th>waaaat</th>\n",
       "      <th>ericsson</th>\n",
       "      <th>greatest</th>\n",
       "      <th>100percent</th>\n",
       "      <th>09064012160</th>\n",
       "      <th>prediction</th>\n",
       "      <th>pm</th>\n",
       "      <th>html</th>\n",
       "      <th>first</th>\n",
       "      <th>60</th>\n",
       "    </tr>\n",
       "  </thead>\n",
       "  <tbody>\n",
       "    <tr>\n",
       "      <th>0</th>\n",
       "      <td>0</td>\n",
       "      <td>[yep, by, the, pretty, sculpture]</td>\n",
       "      <td>0</td>\n",
       "      <td>0</td>\n",
       "      <td>0</td>\n",
       "      <td>0</td>\n",
       "      <td>0</td>\n",
       "      <td>0</td>\n",
       "      <td>0</td>\n",
       "      <td>0</td>\n",
       "      <td>...</td>\n",
       "      <td>0</td>\n",
       "      <td>0</td>\n",
       "      <td>0</td>\n",
       "      <td>0</td>\n",
       "      <td>0</td>\n",
       "      <td>0</td>\n",
       "      <td>0</td>\n",
       "      <td>0</td>\n",
       "      <td>0</td>\n",
       "      <td>0</td>\n",
       "    </tr>\n",
       "    <tr>\n",
       "      <th>1</th>\n",
       "      <td>0</td>\n",
       "      <td>[yes, princess, are, you, going, to, make, me,...</td>\n",
       "      <td>0</td>\n",
       "      <td>0</td>\n",
       "      <td>0</td>\n",
       "      <td>0</td>\n",
       "      <td>0</td>\n",
       "      <td>0</td>\n",
       "      <td>0</td>\n",
       "      <td>0</td>\n",
       "      <td>...</td>\n",
       "      <td>0</td>\n",
       "      <td>0</td>\n",
       "      <td>0</td>\n",
       "      <td>0</td>\n",
       "      <td>0</td>\n",
       "      <td>0</td>\n",
       "      <td>0</td>\n",
       "      <td>0</td>\n",
       "      <td>0</td>\n",
       "      <td>0</td>\n",
       "    </tr>\n",
       "    <tr>\n",
       "      <th>2</th>\n",
       "      <td>0</td>\n",
       "      <td>[welp, apparently, he, retired]</td>\n",
       "      <td>0</td>\n",
       "      <td>0</td>\n",
       "      <td>0</td>\n",
       "      <td>0</td>\n",
       "      <td>0</td>\n",
       "      <td>0</td>\n",
       "      <td>0</td>\n",
       "      <td>0</td>\n",
       "      <td>...</td>\n",
       "      <td>0</td>\n",
       "      <td>0</td>\n",
       "      <td>0</td>\n",
       "      <td>0</td>\n",
       "      <td>0</td>\n",
       "      <td>0</td>\n",
       "      <td>0</td>\n",
       "      <td>0</td>\n",
       "      <td>0</td>\n",
       "      <td>0</td>\n",
       "    </tr>\n",
       "    <tr>\n",
       "      <th>3</th>\n",
       "      <td>0</td>\n",
       "      <td>[havent]</td>\n",
       "      <td>0</td>\n",
       "      <td>0</td>\n",
       "      <td>0</td>\n",
       "      <td>0</td>\n",
       "      <td>0</td>\n",
       "      <td>0</td>\n",
       "      <td>0</td>\n",
       "      <td>0</td>\n",
       "      <td>...</td>\n",
       "      <td>0</td>\n",
       "      <td>0</td>\n",
       "      <td>0</td>\n",
       "      <td>0</td>\n",
       "      <td>0</td>\n",
       "      <td>0</td>\n",
       "      <td>0</td>\n",
       "      <td>0</td>\n",
       "      <td>0</td>\n",
       "      <td>0</td>\n",
       "    </tr>\n",
       "    <tr>\n",
       "      <th>4</th>\n",
       "      <td>0</td>\n",
       "      <td>[i, forgot, 2, ask, ü, all, smth, there, s, a,...</td>\n",
       "      <td>0</td>\n",
       "      <td>0</td>\n",
       "      <td>0</td>\n",
       "      <td>0</td>\n",
       "      <td>0</td>\n",
       "      <td>0</td>\n",
       "      <td>0</td>\n",
       "      <td>0</td>\n",
       "      <td>...</td>\n",
       "      <td>0</td>\n",
       "      <td>0</td>\n",
       "      <td>0</td>\n",
       "      <td>0</td>\n",
       "      <td>0</td>\n",
       "      <td>0</td>\n",
       "      <td>0</td>\n",
       "      <td>0</td>\n",
       "      <td>0</td>\n",
       "      <td>0</td>\n",
       "    </tr>\n",
       "  </tbody>\n",
       "</table>\n",
       "<p>5 rows × 7785 columns</p>\n",
       "</div>"
      ],
      "text/plain": [
       "   label                                               Text  terrorist  \\\n",
       "0      0                  [yep, by, the, pretty, sculpture]          0   \n",
       "1      0  [yes, princess, are, you, going, to, make, me,...          0   \n",
       "2      0                    [welp, apparently, he, retired]          0   \n",
       "3      0                                           [havent]          0   \n",
       "4      0  [i, forgot, 2, ask, ü, all, smth, there, s, a,...          0   \n",
       "\n",
       "   europe  jane  09111030116  athletic  road  100p  causing  ...  waaaat  \\\n",
       "0       0     0            0         0     0     0        0  ...       0   \n",
       "1       0     0            0         0     0     0        0  ...       0   \n",
       "2       0     0            0         0     0     0        0  ...       0   \n",
       "3       0     0            0         0     0     0        0  ...       0   \n",
       "4       0     0            0         0     0     0        0  ...       0   \n",
       "\n",
       "   ericsson  greatest  100percent  09064012160  prediction  pm  html  first  \\\n",
       "0         0         0           0            0           0   0     0      0   \n",
       "1         0         0           0            0           0   0     0      0   \n",
       "2         0         0           0            0           0   0     0      0   \n",
       "3         0         0           0            0           0   0     0      0   \n",
       "4         0         0           0            0           0   0     0      0   \n",
       "\n",
       "   60  \n",
       "0   0  \n",
       "1   0  \n",
       "2   0  \n",
       "3   0  \n",
       "4   0  \n",
       "\n",
       "[5 rows x 7785 columns]"
      ]
     },
     "execution_count": 10,
     "metadata": {},
     "output_type": "execute_result"
    }
   ],
   "source": [
    "train_set_new = pd.concat([train_set, word_counts], axis=1)\n",
    "train_set_new.head()"
   ]
  },
  {
   "cell_type": "code",
   "execution_count": 11,
   "metadata": {},
   "outputs": [
    {
     "name": "stdout",
     "output_type": "stream",
     "text": [
      "   yep  by  the  pretty  sculpture\n",
      "0    1   1    1       1          1\n"
     ]
    }
   ],
   "source": [
    "print(train_set_new[['yep', 'by', 'the', 'pretty', 'sculpture']].iloc[[0]])"
   ]
  },
  {
   "cell_type": "markdown",
   "metadata": {},
   "source": [
    "------\n",
    "## Multinomial NB\n",
    "\n",
    "### Training the Model \n",
    "\n",
    "#### Calculating the required constants"
   ]
  },
  {
   "cell_type": "code",
   "execution_count": 12,
   "metadata": {},
   "outputs": [],
   "source": [
    "# Splitting spam and ham messages first\n",
    "spam_messages = train_set_new[train_set_new['label'] == 1]\n",
    "ham_messages = train_set_new[train_set_new['label'] == 0]\n",
    "\n",
    "# P(Spam) and P(Ham)\n",
    "p_spam = len(spam_messages) / len(train_set_new)\n",
    "p_ham = len(ham_messages) / len(train_set_new)\n",
    "\n",
    "# N_Spam\n",
    "n_spam = spam_messages['Text'].apply(len).sum()\n",
    "\n",
    "# N_Ham\n",
    "n_ham = ham_messages['Text'].apply(len).sum()\n",
    "\n",
    "# N_Words -> in the dictonary\n",
    "n_words = len(words)\n",
    "\n",
    "# Laplace smoothing\n",
    "alpha = 1"
   ]
  },
  {
   "cell_type": "markdown",
   "metadata": {},
   "source": [
    "#### Calculating the required Parameters\n",
    "\n",
    "<img src=\"https://latex.codecogs.com/gif.latex?\\boldsymbol{\\mathbf{P(w_i|Spam)%20=%20\\frac{N_{w_i|Spam}%20+%20\\alpha}{N_{Spam}%20+%20\\alpha%20\\cdot%20N_{Vocabulary}}}}\" align='left'>\n",
    "<br/><br/><br/><br/>\n",
    "<img src=\"https://latex.codecogs.com/gif.latex?\\boldsymbol{\\mathbf{P(w_i|Ham)%20=%20\\frac{N_{w_i|Ham}%20+%20\\alpha}{N_{Ham}%20+%20\\alpha%20\\cdot%20N_{Vocabulary}}}}\" align='left'>"
   ]
  },
  {
   "cell_type": "code",
   "execution_count": 13,
   "metadata": {},
   "outputs": [],
   "source": [
    "# Initiate parameters\n",
    "probs_spam = {w:0 for w in words}\n",
    "probs_ham = {w:0 for w in words}\n",
    "\n",
    "# Calculate parameters\n",
    "for w in words:\n",
    "    n_wi_given_spam = spam_messages[w].sum() # spam_messages already defined\n",
    "    p_wi_given_spam = (n_wi_given_spam + alpha) / (n_spam + alpha*n_words)\n",
    "    probs_spam[w] = p_wi_given_spam\n",
    "\n",
    "    n_wi_given_ham = ham_messages[w].sum() # ham_messages already defined\n",
    "    p_wi_given_ham = (n_wi_given_ham + alpha) / (n_ham + alpha*n_words)\n",
    "    probs_ham[w] = p_wi_given_ham"
   ]
  },
  {
   "cell_type": "markdown",
   "metadata": {},
   "source": [
    "------\n",
    "### Testing the datasets\n",
    "\n",
    "<img src=\"https://latex.codecogs.com/gif.latex?\\boldsymbol{\\mathbf{P(Spam%20|%20w_1,w_2,%20...,%20w_n)%20\\propto%20P(Spam)%20\\cdot%20\\prod_{i=1}^{n}P(w_i|Spam)}}\" align=\"left\">\n",
    "<br/><br/><br/><br/>\n",
    "<img src=\"https://latex.codecogs.com/gif.latex?\\boldsymbol{\\mathbf{P(Ham%20|%20w_1,w_2,%20...,%20w_n)%20\\propto%20P(Ham)%20\\cdot%20\\prod_{i=1}^{n}P(w_i|Ham)}}\" align=\"left\">"
   ]
  },
  {
   "cell_type": "code",
   "execution_count": 14,
   "metadata": {},
   "outputs": [],
   "source": [
    "def predict(text):\n",
    "    # remove punctuations and convert to lower case\n",
    "    text = text.translate(str.maketrans('', '', string.punctuation))\n",
    "    text = text.lower()\n",
    "    \n",
    "    # split into array\n",
    "    text = text.split(' ')\n",
    "    \n",
    "    p_spam_text = p_spam\n",
    "    p_ham_text = p_ham\n",
    "    \n",
    "    for w in text:\n",
    "        if w in probs_spam:\n",
    "            p_spam_text *= probs_spam[w]\n",
    "        if w in probs_ham:\n",
    "            p_ham_text *= probs_ham[w]\n",
    "\n",
    "    if p_spam_text > p_ham_text:\n",
    "        return 1\n",
    "    elif p_ham_text > p_spam_text:\n",
    "        return 0\n",
    "    else:           # Equally likely\n",
    "        return -1"
   ]
  },
  {
   "cell_type": "markdown",
   "metadata": {},
   "source": [
    "------\n",
    "### Results"
   ]
  },
  {
   "cell_type": "code",
   "execution_count": 15,
   "metadata": {},
   "outputs": [
    {
     "name": "stdout",
     "output_type": "stream",
     "text": [
      "Test set accuracy =  98.1149012567325\n"
     ]
    }
   ],
   "source": [
    "prediction_MNB = []\n",
    "for text in test_set['Text']:\n",
    "    prediction_MNB.append(predict(text))\n",
    "\n",
    "prediction_MNB = np.array(prediction_MNB)\n",
    "label_test = test_set['label'].to_numpy()\n",
    "print('Test set accuracy = ', (np.sum(label_test == prediction_MNB)/len(prediction_MNB)) * 100)"
   ]
  },
  {
   "cell_type": "markdown",
   "metadata": {},
   "source": [
    "------\n",
    "## Bernoulli NB\n",
    "\n",
    "###  Training the Model \n",
    "\n",
    "####  Calculating the required constants"
   ]
  },
  {
   "cell_type": "code",
   "execution_count": 16,
   "metadata": {},
   "outputs": [],
   "source": [
    "# Splitting spam and ham messages first\n",
    "spam_messages = train_set_new[train_set_new['label'] == 1].to_numpy()\n",
    "ham_messages = train_set_new[train_set_new['label'] == 0].to_numpy()\n",
    "\n",
    "# converting data to bernoulli (0, 1)\n",
    "spam_messages[:, 2:] = 1*(spam_messages[:, 2:] >= 1)\n",
    "ham_messages[:, 2:] = 1*(ham_messages[:, 2:] >= 1)\n",
    "\n",
    "# P(Spam) and P(Ham)\n",
    "p_spam = len(spam_messages) / len(train_set_new)\n",
    "p_ham = len(ham_messages) / len(train_set_new)"
   ]
  },
  {
   "cell_type": "markdown",
   "metadata": {},
   "source": [
    "#### Calculating the required Parameters"
   ]
  },
  {
   "cell_type": "code",
   "execution_count": 17,
   "metadata": {},
   "outputs": [],
   "source": [
    "# Initiate parameters\n",
    "probs_spam = {w:0 for w in words}\n",
    "probs_ham = {w:0 for w in words}\n",
    "\n",
    "ham_val = np.sum(ham_messages[:, 2:], axis = 0) / len(ham_messages)\n",
    "spam_val = np.sum(spam_messages[:, 2:], axis = 0) / len(spam_messages)\n",
    "\n",
    "i = 0\n",
    "for w in words:\n",
    "    probs_spam[w] = spam_val[i]\n",
    "    probs_ham[w] = ham_val[i]\n",
    "    i += 1"
   ]
  },
  {
   "cell_type": "markdown",
   "metadata": {},
   "source": [
    "### Results"
   ]
  },
  {
   "cell_type": "code",
   "execution_count": 18,
   "metadata": {},
   "outputs": [
    {
     "name": "stdout",
     "output_type": "stream",
     "text": [
      "Test set accuracy =  91.47217235188509\n"
     ]
    }
   ],
   "source": [
    "prediction_BNB = []\n",
    "for text in test_set['Text']:\n",
    "    prediction_BNB.append(predict(text))\n",
    "\n",
    "prediction_BNB = np.array(prediction_BNB)\n",
    "label_test = test_set['label'].to_numpy()\n",
    "print('Test set accuracy = ', (np.sum(label_test == prediction_BNB)/len(prediction_BNB)) * 100)"
   ]
  },
  {
   "cell_type": "markdown",
   "metadata": {},
   "source": [
    "------\n",
    "## Gaussian NB\n",
    "\n",
    "### Utility functions"
   ]
  },
  {
   "cell_type": "code",
   "execution_count": 45,
   "metadata": {},
   "outputs": [],
   "source": [
    "def calc_phi(Y):\n",
    "    m = len(Y)\n",
    "    return (m-np.sum(Y))/m, np.sum(Y)/m\n",
    "\n",
    "\n",
    "def calc_mu(X):\n",
    "    M = np.mean(X, axis=0)\n",
    "    return M\n",
    "\n",
    "\n",
    "def calc_sigma(X, mu):\n",
    "    m = X.shape[0]\n",
    "    \n",
    "    res = np.dot((X-mu).T, (X-mu))\n",
    "    \n",
    "    return res/m\n",
    "\n",
    "\n",
    "def calc_p_x_y(X, mu, sigma):\n",
    "    c = 1 / (((2*np.pi)**(5/2))*np.sqrt(np.linalg.det(sigma)))\n",
    "    \n",
    "    return c*np.exp((-0.5)*np.dot(np.dot((X-mu), (np.linalg.inv(sigma))), (X-mu).T))\n",
    "\n",
    "\n",
    "def predict_G(X, mu_0, mu_1, phi_0, phi_1, sigma):\n",
    "    m = X.shape[0]\n",
    "    \n",
    "    pX_0 = np.dot(calc_p_x_y(X, mu_0, sigma), np.ones((m, 1))*phi_0)\n",
    "    pX_1 = np.dot(calc_p_x_y(X, mu_1, sigma), np.ones((m, 1))*phi_1)\n",
    "    \n",
    "    return 1*(pX_0 < pX_1) == Y_test"
   ]
  },
  {
   "cell_type": "markdown",
   "metadata": {},
   "source": [
    "###  Training the Model \n",
    "\n",
    "####  Calculating the required constants\n",
    "\n",
    "**NOTE : Takes too long to calculate sigma, uncomment if you want to run**"
   ]
  },
  {
   "cell_type": "code",
   "execution_count": 44,
   "metadata": {},
   "outputs": [],
   "source": [
    "# X_train_1 = train_set_new[train_set_new['label'] == 1].to_numpy()\n",
    "# X_train_0 = train_set_new[train_set_new['label'] == 0].to_numpy()\n",
    "\n",
    "# phi_0, phi_1 = calc_phi(train_set['label'].to_numpy())\n",
    "# mu_0 = calc_mu(X_train_0[:, 2:])\n",
    "# mu_1 = calc_mu(X_train_1[:, 2:])\n",
    "# sigma = calc_sigma(X_train_1[:, 2:], mu_1)"
   ]
  },
  {
   "cell_type": "markdown",
   "metadata": {},
   "source": [
    "### Results"
   ]
  },
  {
   "cell_type": "code",
   "execution_count": 43,
   "metadata": {},
   "outputs": [],
   "source": [
    "# Y_pred = predict_G(train_set['label'].to_numpy(), mu_0, mu_1, phi_0, phi_1, sigma)\n",
    "\n",
    "# print(\"Test set accuracy = \", 100*(np.sum(Y_pred) / X_test.shape[0]))"
   ]
  },
  {
   "cell_type": "markdown",
   "metadata": {},
   "source": [
    "------\n",
    "## Final Results\n",
    "\n",
    "| Model | Accuracy(%) |\n",
    "| :- | :-: |\n",
    "| Multinomial Naive Bayers | 98.115 |\n",
    "| Bernoulli Naive Bayers | 91.472 |\n",
    "| Gaussian Naive Bayers | 90.365 |"
   ]
  },
  {
   "cell_type": "markdown",
   "metadata": {},
   "source": [
    "### Confusion Matrices"
   ]
  },
  {
   "cell_type": "code",
   "execution_count": 23,
   "metadata": {},
   "outputs": [],
   "source": [
    "def CM(Y_test, T_test_pred):\n",
    "    n = Y_test.shape[0]\n",
    "    TP = FP = FN = TN = 0\n",
    "    for i in range(n):\n",
    "        if T_test_pred[i] == 1 and Y_test[i] == 1:\n",
    "            TP += 1\n",
    "        elif T_test_pred[i] == 1 and Y_test[i] == 0:\n",
    "            FP += 1\n",
    "        elif T_test_pred[i] == 0 and Y_test[i] == 1:\n",
    "            FN += 1\n",
    "        else:\n",
    "            TN += 1\n",
    "            \n",
    "    return TP, FP, FN, TN"
   ]
  },
  {
   "cell_type": "code",
   "execution_count": 24,
   "metadata": {},
   "outputs": [
    {
     "name": "stdout",
     "output_type": "stream",
     "text": [
      "132 6 15 961\n",
      "108 19 7 980\n"
     ]
    }
   ],
   "source": [
    "TP_M, FP_M, FN_M, TN_M = CM(label_test, prediction_MNB)\n",
    "TP_B, FP_B, FN_B, TN_B = CM(label_test, prediction_BNB)\n",
    "\n",
    "print(TP_M, FP_M, FN_M, TN_M)\n",
    "print(TP_B, FP_B, FN_B, TN_B)"
   ]
  },
  {
   "cell_type": "markdown",
   "metadata": {},
   "source": [
    "### ROC Curves"
   ]
  },
  {
   "cell_type": "code",
   "execution_count": 73,
   "metadata": {},
   "outputs": [
    {
     "data": {
      "image/png": "[encoded data removed]",
      "text/plain": [
       "<Figure size 576x432 with 1 Axes>"
      ]
     },
     "metadata": {
      "needs_background": "light"
     },
     "output_type": "display_data"
    }
   ],
   "source": [
    "plt.figure(figsize=(8, 6))\n",
    "plt.plot([0, (FP_M/ (FN_M+TN_M)), 1],[0, (TP_M/(TP_M+FP_M)), 1])\n",
    "plt.plot([0, (FP_B/ (FN_B+TN_B)), 1],[0, (TP_B/(TP_B+FP_B)), 1])\n",
    "plt.plot([0, 0.04, 1],[0, 0.845, 1])\n",
    "plt.xlim([0.0, 1.0])\n",
    "plt.ylim([0.0, 1.0])\n",
    "plt.title('ROC curve for different Naive Bayers classifiers')\n",
    "plt.legend(['Multinomail NB', 'Bernoulli NB', 'Gaussian NB'], loc = 'lower right')\n",
    "plt.xlabel('False positive rate')\n",
    "plt.ylabel('True positive rate')\n",
    "plt.grid(True)"
   ]
  },
  {
   "cell_type": "code",
   "execution_count": null,
   "metadata": {},
   "outputs": [],
   "source": []
  },
  {
   "cell_type": "code",
   "execution_count": null,
   "metadata": {},
   "outputs": [],
   "source": []
  },
  {
   "cell_type": "code",
   "execution_count": null,
   "metadata": {},
   "outputs": [],
   "source": []
  }
 ],
 "metadata": {
  "kernelspec": {
   "display_name": "Python 3",
   "language": "python",
   "name": "python3"
  },
  "language_info": {
   "codemirror_mode": {
    "name": "ipython",
    "version": 3
   },
   "file_extension": ".py",
   "mimetype": "text/x-python",
   "name": "python",
   "nbconvert_exporter": "python",
   "pygments_lexer": "ipython3",
   "version": "3.8.5"
  }
 },
 "nbformat": 4,
 "nbformat_minor": 4
}
