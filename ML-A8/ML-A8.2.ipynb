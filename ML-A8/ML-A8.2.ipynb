{
 "cells": [
  {
   "cell_type": "markdown",
   "metadata": {},
   "source": [
    "# ML Assignment 8\n",
    "\n",
    "**1) Implement the X-NOR of data, train a Neural Network using Back Propagation Algorithm.**\n",
    "\n",
    "\n",
    "**2) Also explain how you will test the network**\n",
    "\n",
    "------\n",
    "\n",
    "####  It will be using the following to make the X-NOR Gate\n",
    "\n",
    "- AND\n",
    "- NOR\n",
    "- OR\n",
    "\n",
    "#### The X-NOR Model will look like the following:\n",
    "\n",
    "<img src=\"https://user-images.githubusercontent.com/66634743/96352445-3c8e4500-10d4-11eb-842b-395a76e9a2d1.png\" align=\"left\" width=660 height=400>\n",
    "\n",
    "<br/><br/><br/><br/><br/><br/><br/><br/><br/><br/><br/><br/><br/><br/><br/><br/><br/><br/>\n",
    "\n",
    "\n",
    "------\n",
    "\n",
    "### Importing Required Libraries"
   ]
  },
  {
   "cell_type": "code",
   "execution_count": 1,
   "metadata": {},
   "outputs": [],
   "source": [
    "import numpy as np\n",
    "import matplotlib.pyplot as plt"
   ]
  },
  {
   "cell_type": "markdown",
   "metadata": {},
   "source": [
    "### Initializing Data"
   ]
  },
  {
   "cell_type": "code",
   "execution_count": 2,
   "metadata": {},
   "outputs": [],
   "source": [
    "data = np.array([[0, 0], [0, 1], [1, 0], [1, 1]])\n",
    "Y_train_XNOR = np.array([[1], [0], [0], [1]])\n",
    "\n",
    "n_h = 2\n",
    "n_x = data.shape[1]\n",
    "n_y = Y_train_XNOR.shape[1]\n",
    "\n",
    "np.random.seed(69) # to get a consistant result\n",
    "W1 = np.random.randn(n_h, n_x)\n",
    "b1 = np.zeros((n_h, 1))\n",
    "W2 = np.random.randn(n_y, n_h)\n",
    "b2 = np.zeros((n_y, 1))\n",
    "\n",
    "parameters = {\"W1\" : W1, \"b1\": b1, \"W2\" : W2, \"b2\": b2}"
   ]
  },
  {
   "cell_type": "markdown",
   "metadata": {},
   "source": [
    "### Functions"
   ]
  },
  {
   "cell_type": "code",
   "execution_count": 3,
   "metadata": {},
   "outputs": [],
   "source": [
    "def sigmoid(z):\n",
    "    z = np.array(z)\n",
    "    \n",
    "    return (1/ (1 + np.exp(-z)))\n",
    "\n",
    "\n",
    "def forward_prop(X, Y, parameters):\n",
    "    m = X.shape[0]\n",
    "    \n",
    "    W1 = parameters[\"W1\"]\n",
    "    W2 = parameters[\"W2\"]\n",
    "    b1 = parameters[\"b1\"]\n",
    "    b2 = parameters[\"b2\"]\n",
    "    \n",
    "    Z1 = np.dot(W1, X.T) + b1\n",
    "    A1 = sigmoid(Z1)\n",
    "    Z2 = np.dot(W2, A1) + b2\n",
    "    A2 = sigmoid(Z2)\n",
    "    \n",
    "    cache = (Z1, A1, W1, b1, Z2, A2, W2, b2)\n",
    "    cost = -1/m * np.sum(Y.T*np.log(A2) + (1 - Y.T)*np.log(1 - A2))\n",
    "    \n",
    "    return cost, cache, A2\n",
    "\n",
    "\n",
    "def backward_prop(X, Y, cache):\n",
    "    m = X.shape[0]\n",
    "    (Z1, A1, W1, b1, Z2, A2, W2, b2) = cache\n",
    "    \n",
    "    dZ2 = A2 - Y.T\n",
    "    dW2 = (1/m) * np.dot(dZ2, A1.T)\n",
    "    db2 = np.sum(dZ2, axis = 1, keepdims=True)\n",
    "    \n",
    "    dA1 = np.dot(W2.T, dZ2)\n",
    "    dZ1 = np.multiply(dA1, A1 * (1- A1))\n",
    "    dW1 = (1/m) * np.dot(dZ1, X)\n",
    "    db1 = (1/m) * np.sum(dZ1, axis=1, keepdims=True)\n",
    "    \n",
    "    gradients = {\"dZ2\": dZ2, \"dW2\": dW2, \"db2\": db2, \"dZ1\": dZ1, \"dW1\": dW1, \"db1\": db1}\n",
    "    \n",
    "    return gradients\n",
    "\n",
    "\n",
    "def update_parameters(parameters, grads):\n",
    "    parameters[\"W1\"] -= grads[\"dW1\"]\n",
    "    parameters[\"W2\"] -= grads[\"dW2\"]\n",
    "    parameters[\"b1\"] -= grads[\"db1\"]\n",
    "    parameters[\"b2\"] -= grads[\"db2\"]\n",
    "\n",
    "    return parameters\n",
    "\n",
    "\n",
    "def predict(z):\n",
    "    return (z > 0.5) * 1.0"
   ]
  },
  {
   "cell_type": "markdown",
   "metadata": {},
   "source": [
    "### Training the NN"
   ]
  },
  {
   "cell_type": "code",
   "execution_count": 4,
   "metadata": {},
   "outputs": [],
   "source": [
    "epochs = 1000\n",
    "hist = []\n",
    "\n",
    "for i in range(epochs):\n",
    "    J, cache, _ = forward_prop(data, Y_train_XNOR, parameters)\n",
    "    grads = backward_prop(data, Y_train_XNOR, cache)\n",
    "    parameters = update_parameters(parameters, grads)\n",
    "    \n",
    "    hist.append(J)"
   ]
  },
  {
   "cell_type": "markdown",
   "metadata": {},
   "source": [
    "### Testing the NN"
   ]
  },
  {
   "cell_type": "code",
   "execution_count": 5,
   "metadata": {},
   "outputs": [
    {
     "data": {
      "image/png": "[encoded data removed]",
      "text/plain": [
       "<Figure size 648x504 with 1 Axes>"
      ]
     },
     "metadata": {
      "needs_background": "light"
     },
     "output_type": "display_data"
    }
   ],
   "source": [
    "cost, _, A2 = forward_prop(data, Y_train_XNOR, parameters)\n",
    "pred = predict(A2)\n",
    "\n",
    "plt.figure(figsize=(9, 7))\n",
    "plt.grid()\n",
    "plt.plot(range(epochs), hist)\n",
    "plt.xlabel('Epochs')\n",
    "plt.ylabel('Error')\n",
    "plt.show()"
   ]
  },
  {
   "cell_type": "code",
   "execution_count": 6,
   "metadata": {},
   "outputs": [
    {
     "name": "stdout",
     "output_type": "stream",
     "text": [
      "\n",
      "\t    Final Results\n",
      "\n",
      "+-------------+--------+----------+\n",
      "|    data     |   A2   |   pred   |\n",
      "+-------------+--------+----------+\n",
      "| 0  XNOR  0  |  0.988 |  ( ~ 1 ) |\n",
      "| 0  XNOR  1  |  0.012 |  ( ~ 0 ) |\n",
      "| 1  XNOR  0  |  0.011 |  ( ~ 0 ) |\n",
      "| 1  XNOR  1  |  0.990 |  ( ~ 1 ) |\n",
      "+-------------+--------+----------+\n"
     ]
    }
   ],
   "source": [
    "print(\"\\n\\t    Final Results\\n\")\n",
    "print('+-------------+--------+----------+\\n|    data     |   A2   |   pred   |\\n+-------------+--------+----------+')\n",
    "for i in range(4):\n",
    "    print('|', data[i,0], ' XNOR ', data[i,1], ' | ', \"{0:.3f}\".format(A2[0,i]), '|  ( ~', int(pred[0,i]), ') |')\n",
    "print('+-------------+--------+----------+')\n",
    "    "
   ]
  }
 ],
 "metadata": {
  "kernelspec": {
   "display_name": "Python 3",
   "language": "python",
   "name": "python3"
  },
  "language_info": {
   "codemirror_mode": {
    "name": "ipython",
    "version": 3
   },
   "file_extension": ".py",
   "mimetype": "text/x-python",
   "name": "python",
   "nbconvert_exporter": "python",
   "pygments_lexer": "ipython3",
   "version": "3.8.5"
  }
 },
 "nbformat": 4,
 "nbformat_minor": 4
}
