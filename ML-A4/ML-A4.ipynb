{
 "cells": [
  {
   "cell_type": "markdown",
   "metadata": {},
   "source": [
    "## ML Assignment 4\n",
    "------\n",
    "\n",
    "Design a housing price predictor taking only the following features.\n",
    "- Floor area (plot size)\n",
    "- Number of bedrooms\n",
    "- Number of bathrooms \n",
    "\n",
    "Takeing 70% for designing the predictor and 30% for validating the design\n",
    "\n",
    " #### (a) [Using Normal Equation](#Question-1)"
   ]
  },
  {
   "cell_type": "markdown",
   "metadata": {},
   "source": [
    "### 1) Importing the required files."
   ]
  },
  {
   "cell_type": "code",
   "execution_count": 1,
   "metadata": {},
   "outputs": [],
   "source": [
    "import numpy as np\n",
    "import pandas as pd\n",
    "import matplotlib.pyplot as plt"
   ]
  },
  {
   "cell_type": "markdown",
   "metadata": {},
   "source": [
    "### 2) Reading the csv data and sectioning what is necessary "
   ]
  },
  {
   "cell_type": "code",
   "execution_count": 2,
   "metadata": {},
   "outputs": [
    {
     "data": {
      "text/html": [
       "<div>\n",
       "<style scoped>\n",
       "    .dataframe tbody tr th:only-of-type {\n",
       "        vertical-align: middle;\n",
       "    }\n",
       "\n",
       "    .dataframe tbody tr th {\n",
       "        vertical-align: top;\n",
       "    }\n",
       "\n",
       "    .dataframe thead th {\n",
       "        text-align: right;\n",
       "    }\n",
       "</style>\n",
       "<table border=\"1\" class=\"dataframe\">\n",
       "  <thead>\n",
       "    <tr style=\"text-align: right;\">\n",
       "      <th></th>\n",
       "      <th>lotsize</th>\n",
       "      <th>bedrooms</th>\n",
       "      <th>bathrms</th>\n",
       "      <th>price</th>\n",
       "    </tr>\n",
       "  </thead>\n",
       "  <tbody>\n",
       "    <tr>\n",
       "      <th>0</th>\n",
       "      <td>5850</td>\n",
       "      <td>3</td>\n",
       "      <td>1</td>\n",
       "      <td>42000.0</td>\n",
       "    </tr>\n",
       "    <tr>\n",
       "      <th>1</th>\n",
       "      <td>4000</td>\n",
       "      <td>2</td>\n",
       "      <td>1</td>\n",
       "      <td>38500.0</td>\n",
       "    </tr>\n",
       "    <tr>\n",
       "      <th>2</th>\n",
       "      <td>3060</td>\n",
       "      <td>3</td>\n",
       "      <td>1</td>\n",
       "      <td>49500.0</td>\n",
       "    </tr>\n",
       "    <tr>\n",
       "      <th>3</th>\n",
       "      <td>6650</td>\n",
       "      <td>3</td>\n",
       "      <td>1</td>\n",
       "      <td>60500.0</td>\n",
       "    </tr>\n",
       "    <tr>\n",
       "      <th>4</th>\n",
       "      <td>6360</td>\n",
       "      <td>2</td>\n",
       "      <td>1</td>\n",
       "      <td>61000.0</td>\n",
       "    </tr>\n",
       "  </tbody>\n",
       "</table>\n",
       "</div>"
      ],
      "text/plain": [
       "   lotsize  bedrooms  bathrms    price\n",
       "0     5850         3        1  42000.0\n",
       "1     4000         2        1  38500.0\n",
       "2     3060         3        1  49500.0\n",
       "3     6650         3        1  60500.0\n",
       "4     6360         2        1  61000.0"
      ]
     },
     "execution_count": 2,
     "metadata": {},
     "output_type": "execute_result"
    }
   ],
   "source": [
    "hp = pd.read_csv('Housing_Price_data_set.csv')\n",
    "hp1 = hp[['lotsize', 'bedrooms', 'bathrms', 'price']]\n",
    "hp1.head()"
   ]
  },
  {
   "cell_type": "markdown",
   "metadata": {},
   "source": [
    "### 4) Training and Validation Set (70 : 30)"
   ]
  },
  {
   "cell_type": "code",
   "execution_count": 3,
   "metadata": {},
   "outputs": [],
   "source": [
    "hp_train = hp1.iloc[:383]\n",
    "hp_val = hp1.iloc[383:]"
   ]
  },
  {
   "cell_type": "markdown",
   "metadata": {},
   "source": [
    "### 5) Visualize the data"
   ]
  },
  {
   "cell_type": "code",
   "execution_count": 4,
   "metadata": {},
   "outputs": [
    {
     "data": {
      "image/png": "[encoded data removed]",
      "text/plain": [
       "<Figure size 504x288 with 1 Axes>"
      ]
     },
     "metadata": {
      "needs_background": "light"
     },
     "output_type": "display_data"
    }
   ],
   "source": [
    "figure, ax = plt.subplots(1, figsize=(7,4))\n",
    "hp_train.plot(kind='scatter',x='lotsize',y='price',ax=ax)\n",
    "\n",
    "figure.tight_layout(pad=0.5)"
   ]
  },
  {
   "cell_type": "markdown",
   "metadata": {},
   "source": [
    "## Question 1\n",
    "a) Normal equations  with  and without regularization and compare their performances in terms of % error in prediction.\n",
    "\n",
    "## Initializing the matrices for Normal equation."
   ]
  },
  {
   "cell_type": "code",
   "execution_count": 5,
   "metadata": {},
   "outputs": [
    {
     "name": "stdout",
     "output_type": "stream",
     "text": [
      "(383, 4) (383,)\n",
      "(163, 4) (163,)\n"
     ]
    }
   ],
   "source": [
    "m = hp_train.shape[0]\n",
    "X = np.concatenate((np.ones((m, 1)), np.array(hp_train.iloc[:, 0:3])), axis=1)\n",
    "Y = np.array(hp_train.iloc[:, 3])\n",
    "\n",
    "m_val = hp_val.shape[0]\n",
    "X_val = np.concatenate((np.ones((m_val, 1)), np.array(hp_val.iloc[:, 0:3])), axis=1)\n",
    "Y_val = np.array(hp_val.iloc[:, 3])\n",
    "\n",
    "print(X.shape, Y.shape)\n",
    "print(X_val.shape, Y_val.shape)"
   ]
  },
  {
   "cell_type": "markdown",
   "metadata": {},
   "source": [
    "## Feature scaling\n",
    "\n",
    "### Scaling plot Size to between -2 to 5"
   ]
  },
  {
   "cell_type": "code",
   "execution_count": 6,
   "metadata": {},
   "outputs": [],
   "source": [
    "muX = np.mean(X[:,1])\n",
    "sigmaX = (np.mean((X[:,1] - muX)**2))**(1/2)\n",
    "\n",
    "muY = np.mean(Y)\n",
    "sigmaY = (np.mean((Y - muY)**2))**(1/2)\n",
    "\n",
    "X[:,1] = (X[:,1] - muX) / sigmaX\n",
    "X_val[:,1] = (X_val[:,1] - muX) / sigmaX"
   ]
  },
  {
   "cell_type": "markdown",
   "metadata": {},
   "source": [
    "------\n",
    "\n",
    "## Calculating the Weights using Normal Equation (no Regularization)"
   ]
  },
  {
   "cell_type": "code",
   "execution_count": 7,
   "metadata": {},
   "outputs": [
    {
     "name": "stdout",
     "output_type": "stream",
     "text": [
      "(4,)\n",
      "[23950.22814569 12626.39105235  5514.6731898  18764.23913149]\n"
     ]
    }
   ],
   "source": [
    "inverse = np.linalg.inv(np.dot(X.T, X))\n",
    "\n",
    "W = np.dot(inverse, np.dot(X.T, Y))         # Normal EQ.\n",
    "\n",
    "print(W.shape)\n",
    "print(W)"
   ]
  },
  {
   "cell_type": "markdown",
   "metadata": {},
   "source": [
    "## Mean Average Percentage Error - MAPE "
   ]
  },
  {
   "cell_type": "code",
   "execution_count": 8,
   "metadata": {},
   "outputs": [
    {
     "name": "stdout",
     "output_type": "stream",
     "text": [
      "Percent error = 18.742\n"
     ]
    }
   ],
   "source": [
    "Y_predicted = np.dot(X_val, W)\n",
    "\n",
    "J = np.sum(np.abs((Y_predicted - Y_val)/Y_val))\n",
    "\n",
    "percentage = round((J/m_val) * 100, 3)\n",
    "print(\"Percent error =\", percentage)"
   ]
  },
  {
   "cell_type": "markdown",
   "metadata": {},
   "source": [
    "------\n",
    "\n",
    "## Calculating the Weights using Normal Equation (with Regularization)"
   ]
  },
  {
   "cell_type": "code",
   "execution_count": 9,
   "metadata": {},
   "outputs": [
    {
     "name": "stdout",
     "output_type": "stream",
     "text": [
      "(4,)\n",
      "[25542.6129996  12487.53792415  5714.30988413 17056.93043301]\n"
     ]
    }
   ],
   "source": [
    "E = np.eye(4)\n",
    "E[0, 0] = 0                     # regularization term\n",
    "lambda_ = 10\n",
    "inverse = np.linalg.inv(np.dot(X.T, X) + lambda_*E)     # regularized \n",
    "\n",
    "W = np.dot(inverse, np.dot(X.T, Y))                     # Normal EQ + regularzation.\n",
    "\n",
    "print(W.shape)\n",
    "print(W)"
   ]
  },
  {
   "cell_type": "markdown",
   "metadata": {},
   "source": [
    "## Mean Average Percentage Error - MAPE "
   ]
  },
  {
   "cell_type": "code",
   "execution_count": 10,
   "metadata": {},
   "outputs": [
    {
     "name": "stdout",
     "output_type": "stream",
     "text": [
      "Percent error = 18.55\n"
     ]
    }
   ],
   "source": [
    "Y_predicted = np.dot(X_val, W)\n",
    "J = np.sum(np.abs((Y_predicted - Y_val)/Y_val))\n",
    "\n",
    "percentage = round((J/m_val) * 100, 3)\n",
    "print(\"Percent error =\", percentage)"
   ]
  }
 ],
 "metadata": {
  "kernelspec": {
   "display_name": "Python 3",
   "language": "python",
   "name": "python3"
  },
  "language_info": {
   "codemirror_mode": {
    "name": "ipython",
    "version": 3
   },
   "file_extension": ".py",
   "mimetype": "text/x-python",
   "name": "python",
   "nbconvert_exporter": "python",
   "pygments_lexer": "ipython3",
   "version": "3.8.2"
  }
 },
 "nbformat": 4,
 "nbformat_minor": 4
}
