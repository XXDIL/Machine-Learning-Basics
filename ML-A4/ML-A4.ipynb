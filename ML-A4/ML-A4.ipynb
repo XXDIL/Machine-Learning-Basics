{
 "cells": [
  {
   "cell_type": "markdown",
   "metadata": {},
   "source": [
    "## ML Assignment 4\n",
    "------\n",
    "\n",
    "Design a housing price predictor taking only the following features.\n",
    "- Floor area (plot size)\n",
    "- Number of bedrooms\n",
    "- Number of bathrooms \n",
    "\n",
    "Takeing 70% for designing the predictor and 30% for validating the design\n",
    "\n",
    " #### (a) [Using Normal Equation](#Question-1)\n",
    " #### (b) [Gradiend Descent (Feature Scaling)](#Question-2)\n",
    " #### (c) [Gradiend Descent (Regularization)](#Question-3)"
   ]
  },
  {
   "cell_type": "markdown",
   "metadata": {},
   "source": [
    "### 1) Importing the required files."
   ]
  },
  {
   "cell_type": "code",
   "execution_count": 122,
   "metadata": {},
   "outputs": [],
   "source": [
    "import numpy as np\n",
    "import pandas as pd\n",
    "import matplotlib.pyplot as plt\n",
    "import math"
   ]
  },
  {
   "cell_type": "markdown",
   "metadata": {},
   "source": [
    "### 2) Reading the csv data and sectioning what is necessary "
   ]
  },
  {
   "cell_type": "code",
   "execution_count": 2,
   "metadata": {},
   "outputs": [
    {
     "data": {
      "text/html": [
       "<div>\n",
       "<style scoped>\n",
       "    .dataframe tbody tr th:only-of-type {\n",
       "        vertical-align: middle;\n",
       "    }\n",
       "\n",
       "    .dataframe tbody tr th {\n",
       "        vertical-align: top;\n",
       "    }\n",
       "\n",
       "    .dataframe thead th {\n",
       "        text-align: right;\n",
       "    }\n",
       "</style>\n",
       "<table border=\"1\" class=\"dataframe\">\n",
       "  <thead>\n",
       "    <tr style=\"text-align: right;\">\n",
       "      <th></th>\n",
       "      <th>lotsize</th>\n",
       "      <th>bedrooms</th>\n",
       "      <th>bathrms</th>\n",
       "      <th>price</th>\n",
       "    </tr>\n",
       "  </thead>\n",
       "  <tbody>\n",
       "    <tr>\n",
       "      <th>0</th>\n",
       "      <td>5850</td>\n",
       "      <td>3</td>\n",
       "      <td>1</td>\n",
       "      <td>42000.0</td>\n",
       "    </tr>\n",
       "    <tr>\n",
       "      <th>1</th>\n",
       "      <td>4000</td>\n",
       "      <td>2</td>\n",
       "      <td>1</td>\n",
       "      <td>38500.0</td>\n",
       "    </tr>\n",
       "    <tr>\n",
       "      <th>2</th>\n",
       "      <td>3060</td>\n",
       "      <td>3</td>\n",
       "      <td>1</td>\n",
       "      <td>49500.0</td>\n",
       "    </tr>\n",
       "    <tr>\n",
       "      <th>3</th>\n",
       "      <td>6650</td>\n",
       "      <td>3</td>\n",
       "      <td>1</td>\n",
       "      <td>60500.0</td>\n",
       "    </tr>\n",
       "    <tr>\n",
       "      <th>4</th>\n",
       "      <td>6360</td>\n",
       "      <td>2</td>\n",
       "      <td>1</td>\n",
       "      <td>61000.0</td>\n",
       "    </tr>\n",
       "  </tbody>\n",
       "</table>\n",
       "</div>"
      ],
      "text/plain": [
       "   lotsize  bedrooms  bathrms    price\n",
       "0     5850         3        1  42000.0\n",
       "1     4000         2        1  38500.0\n",
       "2     3060         3        1  49500.0\n",
       "3     6650         3        1  60500.0\n",
       "4     6360         2        1  61000.0"
      ]
     },
     "execution_count": 2,
     "metadata": {},
     "output_type": "execute_result"
    }
   ],
   "source": [
    "hp = pd.read_csv('Housing_Price_data_set.csv')\n",
    "hp1 = hp[['lotsize', 'bedrooms', 'bathrms', 'price']]\n",
    "hp1.head()"
   ]
  },
  {
   "cell_type": "markdown",
   "metadata": {},
   "source": [
    "### 4) Training and Validation Set (70 : 30)"
   ]
  },
  {
   "cell_type": "code",
   "execution_count": 3,
   "metadata": {},
   "outputs": [],
   "source": [
    "hp_train = hp1.iloc[:383]\n",
    "hp_val = hp1.iloc[383:]"
   ]
  },
  {
   "cell_type": "markdown",
   "metadata": {},
   "source": [
    "### 5) Visualize the data"
   ]
  },
  {
   "cell_type": "code",
   "execution_count": 4,
   "metadata": {},
   "outputs": [
    {
     "data": {
      "image/png": "[encoded data removed]",
      "text/plain": [
       "<Figure size 504x288 with 1 Axes>"
      ]
     },
     "metadata": {
      "needs_background": "light"
     },
     "output_type": "display_data"
    }
   ],
   "source": [
    "figure, ax = plt.subplots(1, figsize=(7,4))\n",
    "hp_train.plot(kind='scatter',x='lotsize',y='price',ax=ax)\n",
    "\n",
    "figure.tight_layout(pad=0.5)"
   ]
  },
  {
   "cell_type": "markdown",
   "metadata": {},
   "source": [
    "## Question 1\n",
    "a) Normal equations  with  and without regularization and compare their performances in terms of % error in prediction.\n",
    "\n",
    "## Initializing the matrices for Normal equation"
   ]
  },
  {
   "cell_type": "code",
   "execution_count": 301,
   "metadata": {},
   "outputs": [
    {
     "name": "stdout",
     "output_type": "stream",
     "text": [
      "(383, 4) (383,)\n",
      "(163, 4) (163,)\n"
     ]
    }
   ],
   "source": [
    "m = hp_train.shape[0]\n",
    "X = np.concatenate((np.ones((m, 1)), np.array(hp_train.iloc[:, 0:3])), axis=1)\n",
    "Y = np.array(hp_train.iloc[:, 3])\n",
    "\n",
    "m_val = hp_val.shape[0]\n",
    "X_val = np.concatenate((np.ones((m_val, 1)), np.array(hp_val.iloc[:, 0:3])), axis=1)\n",
    "Y_val = np.array(hp_val.iloc[:, 3])\n",
    "\n",
    "print(X.shape, Y.shape)\n",
    "print(X_val.shape, Y_val.shape)"
   ]
  },
  {
   "cell_type": "markdown",
   "metadata": {},
   "source": [
    "## Feature scaling"
   ]
  },
  {
   "cell_type": "code",
   "execution_count": null,
   "metadata": {},
   "outputs": [],
   "source": [
    "muX = np.mean(X[:,1])\n",
    "sigmaX = (np.mean((X[:,1] - muX)**2))**(1/2)\n",
    "\n",
    "X[:,1] = (X[:,1] - muX) / sigmaX\n",
    "X_val[:,1] = (X_val[:,1] - muX) / sigmaX"
   ]
  },
  {
   "cell_type": "markdown",
   "metadata": {},
   "source": [
    "------\n",
    "\n",
    "## Calculating the Weights using Normal Equation (no Regularization)"
   ]
  },
  {
   "cell_type": "code",
   "execution_count": null,
   "metadata": {},
   "outputs": [],
   "source": [
    "inverse = np.linalg.inv(np.dot(X.T, X))\n",
    "\n",
    "W = np.dot(inverse, np.dot(X.T, Y))         # Normal EQ.\n",
    "\n",
    "print(W.shape)\n",
    "print(W)"
   ]
  },
  {
   "cell_type": "markdown",
   "metadata": {},
   "source": [
    "## Mean Average Percentage Error - MAPE "
   ]
  },
  {
   "cell_type": "code",
   "execution_count": null,
   "metadata": {},
   "outputs": [],
   "source": [
    "Y_predicted = np.dot(X_val, W)\n",
    "\n",
    "J = np.sum(np.abs((Y_predicted - Y_val)/Y_val))\n",
    "\n",
    "percentage = round((J/m_val) * 100, 3)\n",
    "print(\"Percent error =\", percentage)"
   ]
  },
  {
   "cell_type": "markdown",
   "metadata": {},
   "source": [
    "------\n",
    "\n",
    "## Calculating the Weights using Normal Equation (with Regularization)"
   ]
  },
  {
   "cell_type": "code",
   "execution_count": null,
   "metadata": {},
   "outputs": [],
   "source": [
    "E = np.eye(4)\n",
    "E[0, 0] = 0                     # regularization term\n",
    "lambda_ = 10\n",
    "inverse = np.linalg.inv(np.dot(X.T, X) + lambda_*E)     # regularized \n",
    "\n",
    "W = np.dot(inverse, np.dot(X.T, Y))                     # Normal EQ + regularzation.\n",
    "\n",
    "print(W.shape)\n",
    "print(W)"
   ]
  },
  {
   "cell_type": "markdown",
   "metadata": {},
   "source": [
    "## Mean Average Percentage Error - MAPE "
   ]
  },
  {
   "cell_type": "code",
   "execution_count": null,
   "metadata": {},
   "outputs": [],
   "source": [
    "Y_predicted = np.dot(X_val, W)\n",
    "J = np.sum(np.abs((Y_predicted - Y_val)/Y_val))\n",
    "\n",
    "percentage = round((J/m_val) * 100, 3)\n",
    "print(\"Percent error =\", percentage)"
   ]
  },
  {
   "cell_type": "markdown",
   "metadata": {},
   "source": [
    "------\n",
    "\n",
    "## Attempting a Complex Hypothesis function.\n",
    "\n",
    "H(x) = w0 + w<sub>1</sub>x<sub>1</sub> + w<sub>2</sub>x<sub>2</sub> + w<sub>3</sub>x<sub>3</sub> + w<sub>4</sub>x<sub>1</sub>x<sub>2</sub> + w<sub>5</sub>x<sub>2</sub>x<sub>3</sub> + w<sub>6</sub>x<sub>3</sub>x<sub>1</sub>"
   ]
  },
  {
   "cell_type": "code",
   "execution_count": null,
   "metadata": {},
   "outputs": [],
   "source": [
    "X_ = np.column_stack((X[:,1]*X[:,2], X[:,2]*X[:,3], X[:,3]*X[:,1]))\n",
    "\n",
    "X = np.concatenate((X, X_), axis = 1)"
   ]
  },
  {
   "cell_type": "markdown",
   "metadata": {},
   "source": [
    "------\n",
    "\n",
    "## Calculating the Weights using Normal Equation (no Regularization)"
   ]
  },
  {
   "cell_type": "code",
   "execution_count": null,
   "metadata": {},
   "outputs": [],
   "source": [
    "inverse = np.linalg.inv(np.dot(X.T, X))\n",
    "\n",
    "W = np.dot(inverse, np.dot(X.T, Y))         # Normal EQ.\n",
    "\n",
    "print(W.shape)\n",
    "print(W)"
   ]
  },
  {
   "cell_type": "code",
   "execution_count": null,
   "metadata": {},
   "outputs": [],
   "source": [
    "X_ = np.column_stack((X_val[:,1]*X_val[:,2], X_val[:,2]*X_val[:,3], X_val[:,3]*X_val[:,1]))\n",
    "\n",
    "X_val = np.concatenate((X_val, X_), axis = 1)"
   ]
  },
  {
   "cell_type": "markdown",
   "metadata": {},
   "source": [
    "## Mean Average Percentage Error - MAPE "
   ]
  },
  {
   "cell_type": "code",
   "execution_count": null,
   "metadata": {},
   "outputs": [],
   "source": [
    "Y_predicted = np.dot(X_val, W)\n",
    "\n",
    "J = np.sum(np.abs((Y_predicted - Y_val)/Y_val))\n",
    "\n",
    "percentage = round((J/m_val) * 100, 3)\n",
    "print(\"Percent error =\", percentage)"
   ]
  },
  {
   "cell_type": "markdown",
   "metadata": {},
   "source": [
    "------\n",
    "\n",
    "## Calculating the Weights using Normal Equation (with Regularization)"
   ]
  },
  {
   "cell_type": "code",
   "execution_count": null,
   "metadata": {},
   "outputs": [],
   "source": [
    "E = np.eye(7)\n",
    "E[0, 0] = 0                     # regularization term\n",
    "lambda_ = 10\n",
    "inverse = np.linalg.inv(np.dot(X.T, X) + lambda_*E)     # regularized \n",
    "\n",
    "W = np.dot(inverse, np.dot(X.T, Y))                     # Normal EQ + regularzation.\n",
    "\n",
    "print(W.shape)\n",
    "print(W)"
   ]
  },
  {
   "cell_type": "markdown",
   "metadata": {},
   "source": [
    "## Mean Average Percentage Error - MAPE \n"
   ]
  },
  {
   "cell_type": "code",
   "execution_count": null,
   "metadata": {},
   "outputs": [],
   "source": [
    "Y_predicted = np.dot(X_val, W)\n",
    "J = np.sum(np.abs((Y_predicted - Y_val)/Y_val))\n",
    "\n",
    "percentage = round((J/m_val) * 100, 3)\n",
    "print(\"Percent error =\", percentage)"
   ]
  },
  {
   "cell_type": "markdown",
   "metadata": {},
   "source": [
    "------\n",
    "\n",
    "## Question 2\n",
    "\n",
    "b) Design Predictor using \n",
    "\n",
    "- [Batch Gradient Descent Algorithm](#Batch-Gradient-Descent-Algorithm)\n",
    "- [Stochastic Gradient Algorithm](#Stocastic-Gradient-Descent-Algorithm)\n",
    "- [Mini Batch Gradient Descent Algorithms (minibatch size is your choice (10, 20, 30 etc.))](#Mini-Batch-Gradient-Descent-Algorithm)\n",
    "\n",
    "with and without **feature scaling** and compare their performances in terms of % error in prediction\n",
    "\n",
    "------\n",
    "\n",
    "### NOTE : before moving on to Q2 run [Initialization cell](#Initializing-the-matrices-for-Normal-equation)\n",
    "\n",
    "### Feature Normalization"
   ]
  },
  {
   "cell_type": "code",
   "execution_count": 287,
   "metadata": {},
   "outputs": [],
   "source": [
    "def featureNormal(X):\n",
    "    \n",
    "    X_norm = np.copy(X)\n",
    "    \n",
    "    mu = np.mean(X[:,1])\n",
    "    sigma = np.std(X[:,1])\n",
    "        \n",
    "    X_norm[:,1] = (X[:,1] - mu) / sigma\n",
    "    \n",
    "    return X_norm, mu, sigma"
   ]
  },
  {
   "cell_type": "markdown",
   "metadata": {},
   "source": [
    "### Calculate the Cost "
   ]
  },
  {
   "cell_type": "code",
   "execution_count": 288,
   "metadata": {},
   "outputs": [],
   "source": [
    "def calcCost(X, Y, W):\n",
    "    \n",
    "    m = X.shape[0]\n",
    "    \n",
    "    J = (0.5*m) * np.sum(np.square(np.dot(X, W) - Y))\n",
    "    \n",
    "    return J"
   ]
  },
  {
   "cell_type": "markdown",
   "metadata": {},
   "source": [
    "### Batch Gradient Descent Algorithm"
   ]
  },
  {
   "cell_type": "code",
   "execution_count": 289,
   "metadata": {},
   "outputs": [],
   "source": [
    "def batchGradDescent(X, Y, W, alpha, epochs):\n",
    "    \n",
    "    m = Y.shape[0]\n",
    "    \n",
    "    J_history = []\n",
    "    \n",
    "    for i in range(epochs):\n",
    "        W = W - (alpha/m)*(np.dot(X.T, (np.dot(X, W) - Y)))\n",
    "        \n",
    "        J_history.append(calcCost(X, Y, W))\n",
    "    \n",
    "    return W, J_history"
   ]
  },
  {
   "cell_type": "markdown",
   "metadata": {},
   "source": [
    "### Stocastic Gradient Descent Algorithm"
   ]
  },
  {
   "cell_type": "code",
   "execution_count": 290,
   "metadata": {},
   "outputs": [],
   "source": [
    "def stocasticGradDescent(X, Y, W, alpha, epochs):\n",
    "    \n",
    "    m = Y.shape[0]\n",
    "    \n",
    "    J_history = []\n",
    "    \n",
    "    for i in range(epochs):\n",
    "        for j in range(m):\n",
    "            W = W - (alpha)*(np.dot(X[j].T, (np.dot(X[j], W) - Y[j])))\n",
    "        \n",
    "            J_history.append(calcCost(X, Y, W))\n",
    "    \n",
    "    return W, J_history"
   ]
  },
  {
   "cell_type": "markdown",
   "metadata": {},
   "source": [
    "### Mini Batch Gradient Descent Algorithm"
   ]
  },
  {
   "cell_type": "code",
   "execution_count": 291,
   "metadata": {},
   "outputs": [],
   "source": [
    "def miniBatchGradDescent(X, Y, W, alpha, epochs, batch_size):\n",
    "    \n",
    "    m = Y.shape[0]\n",
    "    batches = m // batch_size\n",
    "    \n",
    "    J_history = []\n",
    "    \n",
    "    for i in range(epochs):\n",
    "        for j in range(batches):\n",
    "            W = W - (alpha/batch_size)*(np.dot(X[j*batch_size:(j+1)*batch_size].T, (np.dot(X[j*batch_size:(j+1)*batch_size], W) - Y[j*batch_size:(j+1)*batch_size])))\n",
    "        \n",
    "            J_history.append(calcCost(X, Y, W))\n",
    "        \n",
    "        # remaining rows\n",
    "        W = W - (alpha/(m-(batches*batch_size)))*(np.dot(X[batches*batch_size:].T, (np.dot(X[batches*batch_size:], W) - Y[batches*batch_size:])))\n",
    "        \n",
    "        J_history.append(calcCost(X, Y, W))\n",
    "    \n",
    "    return W, J_history"
   ]
  },
  {
   "cell_type": "markdown",
   "metadata": {},
   "source": [
    "### Analysis of BGD, SGD, MBGD ( Without Feature scaling )"
   ]
  },
  {
   "cell_type": "code",
   "execution_count": 351,
   "metadata": {},
   "outputs": [
    {
     "name": "stdout",
     "output_type": "stream",
     "text": [
      "Percent error of BGD = 29.978\n",
      "Percent error  of SGD = 29.96\n",
      "Percent error  of MBGD = 29.96\n"
     ]
    },
    {
     "data": {
      "image/png": "[encoded data removed]",
      "text/plain": [
       "<Figure size 576x864 with 3 Axes>"
      ]
     },
     "metadata": {
      "needs_background": "light"
     },
     "output_type": "display_data"
    }
   ],
   "source": [
    "fig, axs = plt.subplots(3, 1, figsize=(8, 12))\n",
    "\n",
    "alpha = 0.00000001\n",
    "W = np.zeros(4)\n",
    "epochs = 50\n",
    "\n",
    "W, J_history = batchGradDescent(X, Y, W, alpha, epochs)\n",
    "\n",
    "axs[0].plot(range(epochs), J_history)\n",
    "axs[0].set_title('Batch Grad Descent')\n",
    "\n",
    "\n",
    "Y_predicted = np.dot(X_val, W)\n",
    "J = np.sum(np.abs((Y_predicted - Y_val)/Y_val))\n",
    "\n",
    "percentage = round((J/m_val) * 100, 3)\n",
    "print(\"Percent error of BGD =\", percentage)\n",
    "\n",
    "# --------------------\n",
    "\n",
    "alpha = 0.0000000003\n",
    "W = np.zeros(4)\n",
    "epochs = 2\n",
    "\n",
    "W, J_history = stocasticGradDescent(X, Y, W, alpha, epochs)\n",
    "\n",
    "axs[1].plot(range(epochs*m), J_history)\n",
    "axs[1].set_title('Stochastic Grad Descent')\n",
    "\n",
    "\n",
    "Y_predicted = np.dot(X_val, W)\n",
    "J = np.sum(np.abs((Y_predicted - Y_val)/Y_val))\n",
    "\n",
    "percentage = round((J/m_val) * 100, 3)\n",
    "print(\"Percent error  of SGD =\", percentage)\n",
    "\n",
    "# ---------------------\n",
    "\n",
    "alpha = 0.000000005\n",
    "W = np.zeros(4)\n",
    "epochs = 5\n",
    "batch_size = 30\n",
    "\n",
    "W, J_history = miniBatchGradDescent(X, Y, W, alpha, epochs, batch_size)\n",
    "\n",
    "\n",
    "axs[2].plot(range(epochs*(math.ceil(m/batch_size))), J_history)\n",
    "axs[2].set_title('Mini Batch Grad Descent')\n",
    "\n",
    "Y_predicted = np.dot(X_val, W)\n",
    "J = np.sum(np.abs((Y_predicted - Y_val)/Y_val))\n",
    "\n",
    "percentage = round((J/m_val) * 100, 3)\n",
    "print(\"Percent error  of MBGD =\", percentage)\n",
    "\n",
    "# ----------------------\n",
    "\n",
    "fig.tight_layout(pad=3.0)"
   ]
  },
  {
   "cell_type": "markdown",
   "metadata": {},
   "source": [
    "### Analysis of BGD, SGD, MBGD ( With Feature scaling )"
   ]
  },
  {
   "cell_type": "code",
   "execution_count": 350,
   "metadata": {},
   "outputs": [
    {
     "name": "stdout",
     "output_type": "stream",
     "text": [
      "Percent error of BGD = 18.606\n",
      "Percent error  of SGD = 18.508\n",
      "Percent error  of MBGD = 17.898\n"
     ]
    },
    {
     "data": {
      "image/png": "[encoded data removed]",
      "text/plain": [
       "<Figure size 576x864 with 3 Axes>"
      ]
     },
     "metadata": {
      "needs_background": "light"
     },
     "output_type": "display_data"
    }
   ],
   "source": [
    "fig, axs = plt.subplots(3, 1, figsize=(8, 12))\n",
    "\n",
    "X_val_norm = np.copy(X_val)\n",
    "X_val_norm[:,1] = (X_val[:,1] - muX) / sigmaX\n",
    "\n",
    "alpha = 0.01\n",
    "W = np.zeros(4)\n",
    "epochs = 107\n",
    "\n",
    "X_norm, muX, sigmaX = featureNormal(X)\n",
    "\n",
    "W, J_history = batchGradDescent(X_norm, Y, W, alpha, epochs)\n",
    "\n",
    "axs[0].plot(range(epochs), J_history)\n",
    "axs[0].set_title('Batch Grad Descent')\n",
    "\n",
    "\n",
    "Y_predicted = np.dot(X_val_norm, W)\n",
    "J = np.sum(np.abs((Y_predicted - Y_val)/Y_val))\n",
    "\n",
    "percentage = round((J/m_val) * 100, 3)\n",
    "print(\"Percent error of BGD =\", percentage)\n",
    "\n",
    "# --------------------\n",
    "\n",
    "alpha = 0.001\n",
    "W = np.zeros(4)\n",
    "epochs = 5\n",
    "\n",
    "W, J_history = stocasticGradDescent(X_norm, Y, W, alpha, epochs)\n",
    "\n",
    "axs[1].plot(range(epochs*m), J_history)\n",
    "axs[1].set_title('Stochastic Grad Descent')\n",
    "\n",
    "\n",
    "Y_predicted = np.dot(X_val_norm, W)\n",
    "J = np.sum(np.abs((Y_predicted - Y_val)/Y_val))\n",
    "\n",
    "percentage = round((J/m_val) * 100, 3)\n",
    "print(\"Percent error  of SGD =\", percentage)\n",
    "\n",
    "# ---------------------\n",
    "\n",
    "alpha = 0.01\n",
    "W = np.zeros(4)\n",
    "epochs = 7\n",
    "batch_size = 30\n",
    "\n",
    "W, J_history = miniBatchGradDescent(X_norm, Y, W, alpha, epochs, batch_size)\n",
    "\n",
    "\n",
    "axs[2].plot(range(epochs*(math.ceil(m/batch_size))), J_history)\n",
    "axs[2].set_title('Mini Batch Grad Descent')\n",
    "\n",
    "Y_predicted = np.dot(X_val_norm, W)\n",
    "J = np.sum(np.abs((Y_predicted - Y_val)/Y_val))\n",
    "\n",
    "percentage = round((J/m_val) * 100, 3)\n",
    "print(\"Percent error  of MBGD =\", percentage)\n",
    "\n",
    "# ----------------------\n",
    "\n",
    "fig.tight_layout(pad=3.0)"
   ]
  },
  {
   "cell_type": "markdown",
   "metadata": {},
   "source": [
    "------\n",
    "\n",
    "## Question 3\n",
    "\n",
    "c) Same as [Question 2](#Question-2) with and without **regularization**.<br/>\n",
    "Compare their performances in terms of % error in prediction.\n",
    "\n",
    "------\n",
    "\n",
    "### NOTE : before moving on to Q2 run [Initialization cell](#Initializing-the-matrices-for-Normal-equation)"
   ]
  },
  {
   "cell_type": "code",
   "execution_count": null,
   "metadata": {},
   "outputs": [],
   "source": []
  }
 ],
 "metadata": {
  "kernelspec": {
   "display_name": "Python 3",
   "language": "python",
   "name": "python3"
  },
  "language_info": {
   "codemirror_mode": {
    "name": "ipython",
    "version": 3
   },
   "file_extension": ".py",
   "mimetype": "text/x-python",
   "name": "python",
   "nbconvert_exporter": "python",
   "pygments_lexer": "ipython3",
   "version": "3.8.2"
  }
 },
 "nbformat": 4,
 "nbformat_minor": 4
}
