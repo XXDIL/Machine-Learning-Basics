{
 "cells": [
  {
   "cell_type": "markdown",
   "metadata": {},
   "source": [
    "## ML Assignment 4\n",
    "------\n",
    "\n",
    "Design a housing price predictor taking only the following features.\n",
    "- Floor area (plot size)\n",
    "- Number of bedrooms\n",
    "- Number of bathrooms \n",
    "\n",
    "Takeing 70% for designing the predictor and 30% for validating the design\n",
    "\n",
    "#### (a) [Using Normal Equation](#Question-1) \n",
    "#### (b) [Gradiend Descent (Feature Scaling)](#Question-2)\n",
    "#### (c) [Gradiend Descent (Regularization)](#Question-3)\n",
    "#### (d) [LWR](#Question-4)"
   ]
  },
  {
   "cell_type": "markdown",
   "metadata": {},
   "source": [
    "### 1) Importing the required files."
   ]
  },
  {
   "cell_type": "code",
   "execution_count": 1,
   "metadata": {},
   "outputs": [],
   "source": [
    "import numpy as np\n",
    "import pandas as pd\n",
    "import matplotlib.pyplot as plt\n",
    "import math"
   ]
  },
  {
   "cell_type": "markdown",
   "metadata": {},
   "source": [
    "### 2) Reading the csv data and sectioning what is necessary "
   ]
  },
  {
   "cell_type": "code",
   "execution_count": 2,
   "metadata": {},
   "outputs": [
    {
     "data": {
      "text/html": [
       "<div>\n",
       "<style scoped>\n",
       "    .dataframe tbody tr th:only-of-type {\n",
       "        vertical-align: middle;\n",
       "    }\n",
       "\n",
       "    .dataframe tbody tr th {\n",
       "        vertical-align: top;\n",
       "    }\n",
       "\n",
       "    .dataframe thead th {\n",
       "        text-align: right;\n",
       "    }\n",
       "</style>\n",
       "<table border=\"1\" class=\"dataframe\">\n",
       "  <thead>\n",
       "    <tr style=\"text-align: right;\">\n",
       "      <th></th>\n",
       "      <th>lotsize</th>\n",
       "      <th>bedrooms</th>\n",
       "      <th>bathrms</th>\n",
       "      <th>price</th>\n",
       "    </tr>\n",
       "  </thead>\n",
       "  <tbody>\n",
       "    <tr>\n",
       "      <th>0</th>\n",
       "      <td>5850</td>\n",
       "      <td>3</td>\n",
       "      <td>1</td>\n",
       "      <td>42000.0</td>\n",
       "    </tr>\n",
       "    <tr>\n",
       "      <th>1</th>\n",
       "      <td>4000</td>\n",
       "      <td>2</td>\n",
       "      <td>1</td>\n",
       "      <td>38500.0</td>\n",
       "    </tr>\n",
       "    <tr>\n",
       "      <th>2</th>\n",
       "      <td>3060</td>\n",
       "      <td>3</td>\n",
       "      <td>1</td>\n",
       "      <td>49500.0</td>\n",
       "    </tr>\n",
       "    <tr>\n",
       "      <th>3</th>\n",
       "      <td>6650</td>\n",
       "      <td>3</td>\n",
       "      <td>1</td>\n",
       "      <td>60500.0</td>\n",
       "    </tr>\n",
       "    <tr>\n",
       "      <th>4</th>\n",
       "      <td>6360</td>\n",
       "      <td>2</td>\n",
       "      <td>1</td>\n",
       "      <td>61000.0</td>\n",
       "    </tr>\n",
       "  </tbody>\n",
       "</table>\n",
       "</div>"
      ],
      "text/plain": [
       "   lotsize  bedrooms  bathrms    price\n",
       "0     5850         3        1  42000.0\n",
       "1     4000         2        1  38500.0\n",
       "2     3060         3        1  49500.0\n",
       "3     6650         3        1  60500.0\n",
       "4     6360         2        1  61000.0"
      ]
     },
     "execution_count": 2,
     "metadata": {},
     "output_type": "execute_result"
    }
   ],
   "source": [
    "hp = pd.read_csv('Housing_Price_data_set.csv')\n",
    "hp1 = hp[['lotsize', 'bedrooms', 'bathrms', 'price']]\n",
    "hp1.head()"
   ]
  },
  {
   "cell_type": "markdown",
   "metadata": {},
   "source": [
    "### 4) Training and Validation Set (70 : 30)"
   ]
  },
  {
   "cell_type": "code",
   "execution_count": 3,
   "metadata": {},
   "outputs": [],
   "source": [
    "hp_train = hp1.iloc[:383]\n",
    "hp_val = hp1.iloc[383:]"
   ]
  },
  {
   "cell_type": "markdown",
   "metadata": {},
   "source": [
    "### 5) Visualize the data"
   ]
  },
  {
   "cell_type": "code",
   "execution_count": 4,
   "metadata": {},
   "outputs": [
    {
     "data": {
      "image/png": "[encoded data removed]",
      "text/plain": [
       "<Figure size 504x288 with 1 Axes>"
      ]
     },
     "metadata": {
      "needs_background": "light"
     },
     "output_type": "display_data"
    }
   ],
   "source": [
    "figure, ax = plt.subplots(1, figsize=(7,4))\n",
    "hp_train.plot(kind='scatter',x='lotsize',y='price',ax=ax)\n",
    "\n",
    "figure.tight_layout(pad=0.5)"
   ]
  },
  {
   "cell_type": "markdown",
   "metadata": {},
   "source": [
    "## Question 1\n",
    "a) Normal equations  with  and without regularization and compare their performances in terms of % error in prediction.\n",
    "\n",
    "## Initializing the matrices for Normal equation"
   ]
  },
  {
   "cell_type": "code",
   "execution_count": 25,
   "metadata": {},
   "outputs": [
    {
     "name": "stdout",
     "output_type": "stream",
     "text": [
      "(383, 4) (383,)\n",
      "(163, 4) (163,)\n"
     ]
    }
   ],
   "source": [
    "m = hp_train.shape[0]\n",
    "X = np.concatenate((np.ones((m, 1)), np.array(hp_train.iloc[:, 0:3])), axis=1)\n",
    "Y = np.array(hp_train.iloc[:, 3])\n",
    "\n",
    "m_val = hp_val.shape[0]\n",
    "X_val = np.concatenate((np.ones((m_val, 1)), np.array(hp_val.iloc[:, 0:3])), axis=1)\n",
    "Y_val = np.array(hp_val.iloc[:, 3])\n",
    "\n",
    "print(X.shape, Y.shape)\n",
    "print(X_val.shape, Y_val.shape)"
   ]
  },
  {
   "cell_type": "markdown",
   "metadata": {},
   "source": [
    "## Feature scaling"
   ]
  },
  {
   "cell_type": "code",
   "execution_count": 6,
   "metadata": {},
   "outputs": [],
   "source": [
    "muX = np.mean(X[:,1])\n",
    "sigmaX = (np.mean((X[:,1] - muX)**2))**(1/2)\n",
    "\n",
    "X[:,1] = (X[:,1] - muX) / sigmaX\n",
    "X_val[:,1] = (X_val[:,1] - muX) / sigmaX"
   ]
  },
  {
   "cell_type": "markdown",
   "metadata": {},
   "source": [
    "------\n",
    "\n",
    "## Calculating the Weights using Normal Equation (no Regularization)"
   ]
  },
  {
   "cell_type": "code",
   "execution_count": 7,
   "metadata": {},
   "outputs": [
    {
     "name": "stdout",
     "output_type": "stream",
     "text": [
      "(4,)\n",
      "[23950.22814569 12626.39105235  5514.6731898  18764.23913149]\n"
     ]
    }
   ],
   "source": [
    "inverse = np.linalg.inv(np.dot(X.T, X))\n",
    "\n",
    "W = np.dot(inverse, np.dot(X.T, Y))         # Normal EQ.\n",
    "\n",
    "print(W.shape)\n",
    "print(W)"
   ]
  },
  {
   "cell_type": "markdown",
   "metadata": {},
   "source": [
    "## Mean Average Percentage Error - MAPE "
   ]
  },
  {
   "cell_type": "code",
   "execution_count": 8,
   "metadata": {},
   "outputs": [
    {
     "name": "stdout",
     "output_type": "stream",
     "text": [
      "Percent error = 18.742\n"
     ]
    }
   ],
   "source": [
    "Y_predicted = np.dot(X_val, W)\n",
    "\n",
    "J = np.sum(np.abs((Y_predicted - Y_val)/Y_val))\n",
    "\n",
    "percentage = round((J/m_val) * 100, 3)\n",
    "print(\"Percent error =\", percentage)"
   ]
  },
  {
   "cell_type": "markdown",
   "metadata": {},
   "source": [
    "------\n",
    "\n",
    "## Calculating the Weights using Normal Equation (with Regularization)"
   ]
  },
  {
   "cell_type": "code",
   "execution_count": 9,
   "metadata": {},
   "outputs": [
    {
     "name": "stdout",
     "output_type": "stream",
     "text": [
      "(4,)\n",
      "[25542.6129996  12487.53792415  5714.30988413 17056.93043301]\n"
     ]
    }
   ],
   "source": [
    "E = np.eye(4)\n",
    "E[0, 0] = 0                     # regularization term\n",
    "lambda_ = 10\n",
    "inverse = np.linalg.inv(np.dot(X.T, X) + lambda_*E)     # regularized \n",
    "\n",
    "W = np.dot(inverse, np.dot(X.T, Y))                     # Normal EQ + regularzation.\n",
    "\n",
    "print(W.shape)\n",
    "print(W)"
   ]
  },
  {
   "cell_type": "markdown",
   "metadata": {},
   "source": [
    "## Mean Average Percentage Error - MAPE "
   ]
  },
  {
   "cell_type": "code",
   "execution_count": 10,
   "metadata": {},
   "outputs": [
    {
     "name": "stdout",
     "output_type": "stream",
     "text": [
      "Percent error = 18.55\n"
     ]
    }
   ],
   "source": [
    "Y_predicted = np.dot(X_val, W)\n",
    "J = np.sum(np.abs((Y_predicted - Y_val)/Y_val))\n",
    "\n",
    "percentage = round((J/m_val) * 100, 3)\n",
    "print(\"Percent error =\", percentage)"
   ]
  },
  {
   "cell_type": "markdown",
   "metadata": {},
   "source": [
    "------\n",
    "\n",
    "## Attempting a Complex Hypothesis function.\n",
    "\n",
    "H(x) = w0 + w<sub>1</sub>x<sub>1</sub> + w<sub>2</sub>x<sub>2</sub> + w<sub>3</sub>x<sub>3</sub> + w<sub>4</sub>x<sub>1</sub>x<sub>2</sub> + w<sub>5</sub>x<sub>2</sub>x<sub>3</sub> + w<sub>6</sub>x<sub>3</sub>x<sub>1</sub>"
   ]
  },
  {
   "cell_type": "code",
   "execution_count": 11,
   "metadata": {},
   "outputs": [],
   "source": [
    "X_ = np.column_stack((X[:,1]*X[:,2], X[:,2]*X[:,3], X[:,3]*X[:,1]))\n",
    "\n",
    "X = np.concatenate((X, X_), axis = 1)"
   ]
  },
  {
   "cell_type": "markdown",
   "metadata": {},
   "source": [
    "------\n",
    "\n",
    "## Calculating the Weights using Normal Equation (no Regularization)"
   ]
  },
  {
   "cell_type": "code",
   "execution_count": 12,
   "metadata": {},
   "outputs": [
    {
     "name": "stdout",
     "output_type": "stream",
     "text": [
      "(7,)\n",
      "[-6402.01907888 10619.92270948 15152.38452492 44096.01385518\n",
      " -1377.20959651 -7874.93288848  4767.03008395]\n"
     ]
    }
   ],
   "source": [
    "inverse = np.linalg.inv(np.dot(X.T, X))\n",
    "\n",
    "W = np.dot(inverse, np.dot(X.T, Y))         # Normal EQ.\n",
    "\n",
    "print(W.shape)\n",
    "print(W)"
   ]
  },
  {
   "cell_type": "code",
   "execution_count": 13,
   "metadata": {},
   "outputs": [],
   "source": [
    "X_ = np.column_stack((X_val[:,1]*X_val[:,2], X_val[:,2]*X_val[:,3], X_val[:,3]*X_val[:,1]))\n",
    "\n",
    "X_val = np.concatenate((X_val, X_), axis = 1)"
   ]
  },
  {
   "cell_type": "markdown",
   "metadata": {},
   "source": [
    "## Mean Average Percentage Error - MAPE "
   ]
  },
  {
   "cell_type": "code",
   "execution_count": 14,
   "metadata": {},
   "outputs": [
    {
     "name": "stdout",
     "output_type": "stream",
     "text": [
      "Percent error = 18.237\n"
     ]
    }
   ],
   "source": [
    "Y_predicted = np.dot(X_val, W)\n",
    "\n",
    "J = np.sum(np.abs((Y_predicted - Y_val)/Y_val))\n",
    "\n",
    "percentage = round((J/m_val) * 100, 3)\n",
    "print(\"Percent error =\", percentage)"
   ]
  },
  {
   "cell_type": "markdown",
   "metadata": {},
   "source": [
    "------\n",
    "\n",
    "## Calculating the Weights using Normal Equation (with Regularization)"
   ]
  },
  {
   "cell_type": "code",
   "execution_count": 15,
   "metadata": {},
   "outputs": [
    {
     "name": "stdout",
     "output_type": "stream",
     "text": [
      "(7,)\n",
      "[30905.88587402 10063.74839581  4195.37048647 13051.87936238\n",
      "  -620.46664021  1004.50406377  3035.5280464 ]\n"
     ]
    }
   ],
   "source": [
    "E = np.eye(7)\n",
    "E[0, 0] = 0                     # regularization term\n",
    "lambda_ = 10\n",
    "inverse = np.linalg.inv(np.dot(X.T, X) + lambda_*E)     # regularized \n",
    "\n",
    "W = np.dot(inverse, np.dot(X.T, Y))                     # Normal EQ + regularzation.\n",
    "\n",
    "print(W.shape)\n",
    "print(W)"
   ]
  },
  {
   "cell_type": "markdown",
   "metadata": {},
   "source": [
    "## Mean Average Percentage Error - MAPE \n"
   ]
  },
  {
   "cell_type": "code",
   "execution_count": 16,
   "metadata": {},
   "outputs": [
    {
     "name": "stdout",
     "output_type": "stream",
     "text": [
      "Percent error = 18.134\n"
     ]
    }
   ],
   "source": [
    "Y_predicted = np.dot(X_val, W)\n",
    "J = np.sum(np.abs((Y_predicted - Y_val)/Y_val))\n",
    "\n",
    "percentage = round((J/m_val) * 100, 3)\n",
    "print(\"Percent error =\", percentage)"
   ]
  },
  {
   "cell_type": "markdown",
   "metadata": {},
   "source": [
    "------\n",
    "\n",
    "## Question 2\n",
    "\n",
    "b) Design Predictor using \n",
    "\n",
    "- [Batch Gradient Descent Algorithm](#Batch-Gradient-Descent-Algorithm)\n",
    "- [Stochastic Gradient Algorithm](#Stocastic-Gradient-Descent-Algorithm)\n",
    "- [Mini Batch Gradient Descent Algorithms (minibatch size is your choice (10, 20, 30 etc.))](#Mini-Batch-Gradient-Descent-Algorithm)\n",
    "\n",
    "with and without **feature scaling** and compare their performances in terms of % error in prediction\n",
    "\n",
    "------\n",
    "\n",
    "### NOTE : before moving on to Q2 run [Initialization cell](#Initializing-the-matrices-for-Normal-equation)\n",
    "\n",
    "### Feature Normalization"
   ]
  },
  {
   "cell_type": "code",
   "execution_count": 18,
   "metadata": {},
   "outputs": [],
   "source": [
    "def featureNormal(X):\n",
    "    \n",
    "    X_norm = np.copy(X)\n",
    "    \n",
    "    mu = np.mean(X[:,1])\n",
    "    sigma = np.std(X[:,1])\n",
    "        \n",
    "    X_norm[:,1] = (X[:,1] - mu) / sigma\n",
    "    \n",
    "    return X_norm, mu, sigma"
   ]
  },
  {
   "cell_type": "markdown",
   "metadata": {},
   "source": [
    "### Calculate the Cost "
   ]
  },
  {
   "cell_type": "code",
   "execution_count": 19,
   "metadata": {},
   "outputs": [],
   "source": [
    "def calcCost(X, Y, W):\n",
    "    \n",
    "    m = X.shape[0]\n",
    "    \n",
    "    J = (0.5*m) * np.sum(np.square(np.dot(X, W) - Y))\n",
    "    \n",
    "    return J"
   ]
  },
  {
   "cell_type": "markdown",
   "metadata": {},
   "source": [
    "### Batch Gradient Descent Algorithm"
   ]
  },
  {
   "cell_type": "code",
   "execution_count": 20,
   "metadata": {},
   "outputs": [],
   "source": [
    "def batchGradDescent(X, Y, W, alpha, epochs):\n",
    "    \n",
    "    m = Y.shape[0]\n",
    "    \n",
    "    J_history = []\n",
    "    \n",
    "    for i in range(epochs):\n",
    "        W = W - (alpha/m)*(np.dot(X.T, (np.dot(X, W) - Y)))\n",
    "        \n",
    "        J_history.append(calcCost(X, Y, W))\n",
    "    \n",
    "    return W, J_history"
   ]
  },
  {
   "cell_type": "markdown",
   "metadata": {},
   "source": [
    "### Stocastic Gradient Descent Algorithm"
   ]
  },
  {
   "cell_type": "code",
   "execution_count": 21,
   "metadata": {},
   "outputs": [],
   "source": [
    "def stocasticGradDescent(X, Y, W, alpha, epochs):\n",
    "    \n",
    "    m = Y.shape[0]\n",
    "    \n",
    "    J_history = []\n",
    "    \n",
    "    for i in range(epochs):\n",
    "        for j in range(m):\n",
    "            W = W - (alpha)*(np.dot(X[j].T, (np.dot(X[j], W) - Y[j])))\n",
    "        \n",
    "            J_history.append(calcCost(X, Y, W))\n",
    "    \n",
    "    return W, J_history"
   ]
  },
  {
   "cell_type": "markdown",
   "metadata": {},
   "source": [
    "### Mini Batch Gradient Descent Algorithm"
   ]
  },
  {
   "cell_type": "code",
   "execution_count": 22,
   "metadata": {},
   "outputs": [],
   "source": [
    "def miniBatchGradDescent(X, Y, W, alpha, epochs, batch_size):\n",
    "    \n",
    "    m = Y.shape[0]\n",
    "    batches = m // batch_size\n",
    "    \n",
    "    J_history = []\n",
    "    \n",
    "    for i in range(epochs):\n",
    "        for j in range(batches):\n",
    "            W = W - (alpha/batch_size)*(np.dot(X[j*batch_size:(j+1)*batch_size].T, (np.dot(X[j*batch_size:(j+1)*batch_size], W) - Y[j*batch_size:(j+1)*batch_size])))\n",
    "        \n",
    "            J_history.append(calcCost(X, Y, W))\n",
    "        \n",
    "        # remaining rows\n",
    "        W = W - (alpha/(m-(batches*batch_size)))*(np.dot(X[batches*batch_size:].T, (np.dot(X[batches*batch_size:], W) - Y[batches*batch_size:])))\n",
    "        \n",
    "        J_history.append(calcCost(X, Y, W))\n",
    "    \n",
    "    return W, J_history"
   ]
  },
  {
   "cell_type": "markdown",
   "metadata": {},
   "source": [
    "### Analysis of BGD, SGD, MBGD ( Without Feature scaling )"
   ]
  },
  {
   "cell_type": "code",
   "execution_count": 23,
   "metadata": {},
   "outputs": [
    {
     "name": "stdout",
     "output_type": "stream",
     "text": [
      "Percent error of BGD = 29.978\n",
      "Percent error  of SGD = 29.96\n",
      "Percent error  of MBGD = 29.96\n"
     ]
    },
    {
     "data": {
      "image/png": "[encoded data removed]",
      "text/plain": [
       "<Figure size 576x864 with 3 Axes>"
      ]
     },
     "metadata": {
      "needs_background": "light"
     },
     "output_type": "display_data"
    }
   ],
   "source": [
    "fig, axs = plt.subplots(3, 1, figsize=(8, 12))\n",
    "\n",
    "alpha = 0.00000001\n",
    "W = np.zeros(4)\n",
    "epochs = 50\n",
    "\n",
    "W, J_history = batchGradDescent(X, Y, W, alpha, epochs)\n",
    "\n",
    "axs[0].plot(range(epochs), J_history)\n",
    "axs[0].set_title('Batch Grad Descent')\n",
    "\n",
    "\n",
    "Y_predicted = np.dot(X_val, W)\n",
    "J = np.sum(np.abs((Y_predicted - Y_val)/Y_val))\n",
    "\n",
    "percentage = round((J/m_val) * 100, 3)\n",
    "print(\"Percent error of BGD =\", percentage)\n",
    "\n",
    "# --------------------\n",
    "\n",
    "alpha = 0.0000000003\n",
    "W = np.zeros(4)\n",
    "epochs = 2\n",
    "\n",
    "W, J_history = stocasticGradDescent(X, Y, W, alpha, epochs)\n",
    "\n",
    "axs[1].plot(range(epochs*m), J_history)\n",
    "axs[1].set_title('Stochastic Grad Descent')\n",
    "\n",
    "\n",
    "Y_predicted = np.dot(X_val, W)\n",
    "J = np.sum(np.abs((Y_predicted - Y_val)/Y_val))\n",
    "\n",
    "percentage = round((J/m_val) * 100, 3)\n",
    "print(\"Percent error  of SGD =\", percentage)\n",
    "\n",
    "# ---------------------\n",
    "\n",
    "alpha = 0.000000005\n",
    "W = np.zeros(4)\n",
    "epochs = 5\n",
    "batch_size = 30\n",
    "\n",
    "W, J_history = miniBatchGradDescent(X, Y, W, alpha, epochs, batch_size)\n",
    "\n",
    "\n",
    "axs[2].plot(range(epochs*(math.ceil(m/batch_size))), J_history)\n",
    "axs[2].set_title('Mini Batch Grad Descent')\n",
    "\n",
    "Y_predicted = np.dot(X_val, W)\n",
    "J = np.sum(np.abs((Y_predicted - Y_val)/Y_val))\n",
    "\n",
    "percentage = round((J/m_val) * 100, 3)\n",
    "print(\"Percent error  of MBGD =\", percentage)\n",
    "\n",
    "# ----------------------\n",
    "\n",
    "fig.tight_layout(pad=3.0)"
   ]
  },
  {
   "cell_type": "markdown",
   "metadata": {},
   "source": [
    "### Analysis of BGD, SGD, MBGD ( With Feature scaling )"
   ]
  },
  {
   "cell_type": "code",
   "execution_count": 24,
   "metadata": {},
   "outputs": [
    {
     "name": "stdout",
     "output_type": "stream",
     "text": [
      "Percent error of BGD = 18.606\n",
      "Percent error  of SGD = 18.508\n",
      "Percent error  of MBGD = 17.898\n"
     ]
    },
    {
     "data": {
      "image/png": "[encoded data removed]",
      "text/plain": [
       "<Figure size 576x864 with 3 Axes>"
      ]
     },
     "metadata": {
      "needs_background": "light"
     },
     "output_type": "display_data"
    }
   ],
   "source": [
    "fig, axs = plt.subplots(3, 1, figsize=(8, 12))\n",
    "\n",
    "X_val_norm = np.copy(X_val)\n",
    "X_val_norm[:,1] = (X_val[:,1] - muX) / sigmaX\n",
    "\n",
    "alpha = 0.01\n",
    "W = np.zeros(4)\n",
    "epochs = 107\n",
    "\n",
    "X_norm, muX, sigmaX = featureNormal(X)\n",
    "\n",
    "W, J_history = batchGradDescent(X_norm, Y, W, alpha, epochs)\n",
    "\n",
    "axs[0].plot(range(epochs), J_history)\n",
    "axs[0].set_title('Batch Grad Descent')\n",
    "\n",
    "\n",
    "Y_predicted = np.dot(X_val_norm, W)\n",
    "J = np.sum(np.abs((Y_predicted - Y_val)/Y_val))\n",
    "\n",
    "percentage = round((J/m_val) * 100, 3)\n",
    "print(\"Percent error of BGD =\", percentage)\n",
    "\n",
    "# --------------------\n",
    "\n",
    "alpha = 0.001\n",
    "W = np.zeros(4)\n",
    "epochs = 5\n",
    "\n",
    "W, J_history = stocasticGradDescent(X_norm, Y, W, alpha, epochs)\n",
    "\n",
    "axs[1].plot(range(epochs*m), J_history)\n",
    "axs[1].set_title('Stochastic Grad Descent')\n",
    "\n",
    "\n",
    "Y_predicted = np.dot(X_val_norm, W)\n",
    "J = np.sum(np.abs((Y_predicted - Y_val)/Y_val))\n",
    "\n",
    "percentage = round((J/m_val) * 100, 3)\n",
    "print(\"Percent error  of SGD =\", percentage)\n",
    "\n",
    "# ---------------------\n",
    "\n",
    "alpha = 0.01\n",
    "W = np.zeros(4)\n",
    "epochs = 7\n",
    "batch_size = 30\n",
    "\n",
    "W, J_history = miniBatchGradDescent(X_norm, Y, W, alpha, epochs, batch_size)\n",
    "\n",
    "\n",
    "axs[2].plot(range(epochs*(math.ceil(m/batch_size))), J_history)\n",
    "axs[2].set_title('Mini Batch Grad Descent')\n",
    "\n",
    "Y_predicted = np.dot(X_val_norm, W)\n",
    "J = np.sum(np.abs((Y_predicted - Y_val)/Y_val))\n",
    "\n",
    "percentage = round((J/m_val) * 100, 3)\n",
    "print(\"Percent error  of MBGD =\", percentage)\n",
    "\n",
    "# ----------------------\n",
    "\n",
    "fig.tight_layout(pad=3.0)"
   ]
  },
  {
   "cell_type": "markdown",
   "metadata": {},
   "source": [
    "------\n",
    "\n",
    "## Question 3\n",
    "\n",
    "c) Same as [Question 2](#Question-2) with and without **regularization**.<br/>\n",
    "Compare their performances in terms of % error in prediction.\n",
    "\n",
    "------\n",
    "\n",
    "### NOTE : Before moving on to Q3 run [Initialization cell](#Initializing-the-matrices-for-Normal-equation)\n",
    "\n",
    "### Calculate regularized cost"
   ]
  },
  {
   "cell_type": "code",
   "execution_count": 26,
   "metadata": {},
   "outputs": [],
   "source": [
    "def calcCostReg(X, Y, W, lambda_):\n",
    "    \n",
    "    m = X.shape[0]\n",
    "    \n",
    "    J = (0.5*m) * (np.sum(np.square(np.dot(X, W) - Y)) + lambda_*np.sum(np.square(W)))\n",
    "    \n",
    "    return J"
   ]
  },
  {
   "cell_type": "markdown",
   "metadata": {},
   "source": [
    "### Batch Gradient Descent Using Regularization"
   ]
  },
  {
   "cell_type": "code",
   "execution_count": 27,
   "metadata": {},
   "outputs": [],
   "source": [
    "def batchGradDescentReg(X, Y, W, alpha, lambda_, epochs):\n",
    "    \n",
    "    m = Y.shape[0]\n",
    "    \n",
    "    J_history = []\n",
    "    \n",
    "    for i in range(epochs):\n",
    "        W[0] = W[0] - (alpha/m)*(np.dot(X.T[0], (np.dot(X, W) - Y)))\n",
    "        W[1:] = W[1:] - (alpha/m)*(np.dot(X.T[1:], (np.dot(X, W) - Y)) - lambda_*(W[1:]))\n",
    "        \n",
    "        J_history.append(calcCostReg(X, Y, W, lambda_))\n",
    "    \n",
    "    return W, J_history"
   ]
  },
  {
   "cell_type": "markdown",
   "metadata": {},
   "source": [
    "### Stocastic Gradient Descent Using Regularization"
   ]
  },
  {
   "cell_type": "code",
   "execution_count": 28,
   "metadata": {},
   "outputs": [],
   "source": [
    "def stocasticGradDescentReg(X, Y, W, alpha, lambda_, epochs):\n",
    "    \n",
    "    m = Y.shape[0]\n",
    "    \n",
    "    J_history = []\n",
    "    \n",
    "    for i in range(epochs):\n",
    "        for j in range(m):\n",
    "            W[0] = W[0] - (alpha)*(np.dot(X[j].T[0], (np.dot(X[j], W) - Y[j])))\n",
    "            W[1:] = W[1:] - (alpha)*(np.dot(X[j].T[1:], (np.dot(X[j], W) - Y[j])) - lambda_*(W[1:]))\n",
    "        \n",
    "            J_history.append(calcCostReg(X, Y, W, lambda_))\n",
    "    \n",
    "    return W, J_history"
   ]
  },
  {
   "cell_type": "markdown",
   "metadata": {},
   "source": [
    "### Mini Batch Gradient Descent Using Regularization"
   ]
  },
  {
   "cell_type": "code",
   "execution_count": 29,
   "metadata": {},
   "outputs": [],
   "source": [
    "def miniBatchGradDescentReg(X, Y, W, alpha, lambda_, epochs, batch_size):\n",
    "    \n",
    "    m = Y.shape[0]\n",
    "    batches = m // batch_size\n",
    "    \n",
    "    J_history = []\n",
    "    \n",
    "    for i in range(epochs):\n",
    "        for j in range(batches):\n",
    "            W[0] = W[0] - (alpha/batch_size)*(np.dot(X[j*batch_size:(j+1)*batch_size].T[0], (np.dot(X[j*batch_size:(j+1)*batch_size], W) - Y[j*batch_size:(j+1)*batch_size])))\n",
    "            \n",
    "            W[1:] = W[1:] - (alpha/batch_size)*(np.dot(X[j*batch_size:(j+1)*batch_size].T[1:], (np.dot(X[j*batch_size:(j+1)*batch_size], W) - Y[j*batch_size:(j+1)*batch_size])) - lambda_*(W[1:]))\n",
    "        \n",
    "            J_history.append(calcCostReg(X, Y, W, lambda_))\n",
    "        \n",
    "        # remaining rows\n",
    "        W[0] = W[0] - (alpha/(m-(batches*batch_size)))*(np.dot(X[batches*batch_size:].T[0], (np.dot(X[batches*batch_size:], W) - Y[batches*batch_size:])))\n",
    "        \n",
    "        W[1:] = W[1:] - (alpha/(m-(batches*batch_size)))*(np.dot(X[batches*batch_size:].T[1:], (np.dot(X[batches*batch_size:], W) - Y[batches*batch_size:])) - lambda_*(W[1:]))\n",
    "        \n",
    "        J_history.append(calcCostReg(X, Y, W, lambda_))\n",
    "    \n",
    "    return W, J_history"
   ]
  },
  {
   "cell_type": "markdown",
   "metadata": {},
   "source": [
    "### Analysis of BGD, SGD, MBGD ( With Feature scaling and Regularization )"
   ]
  },
  {
   "cell_type": "code",
   "execution_count": 30,
   "metadata": {},
   "outputs": [
    {
     "name": "stdout",
     "output_type": "stream",
     "text": [
      "Percent error of BGD with Regularization = 18.605\n",
      "Percent error  of SGD with Regularization = 18.5063\n",
      "Percent error  of MBGD with Regularization = 17.874\n"
     ]
    },
    {
     "data": {
      "image/png": "[encoded data removed]",
      "text/plain": [
       "<Figure size 576x864 with 3 Axes>"
      ]
     },
     "metadata": {
      "needs_background": "light"
     },
     "output_type": "display_data"
    }
   ],
   "source": [
    "fig, axs = plt.subplots(3, 1, figsize=(8, 12))\n",
    "\n",
    "X_val_norm = np.copy(X_val)\n",
    "X_val_norm[:,1] = (X_val[:,1] - muX) / sigmaX\n",
    "\n",
    "alpha = 0.01\n",
    "lambda_ = 0.01\n",
    "W = np.zeros(4)\n",
    "epochs = 107\n",
    "\n",
    "X_norm, muX, sigmaX = featureNormal(X)\n",
    "\n",
    "W, J_history = batchGradDescentReg(X_norm, Y, W, alpha, lambda_, epochs)\n",
    "\n",
    "axs[0].plot(range(epochs), J_history)\n",
    "axs[0].set_title('Batch Grad Descent (Reg)')\n",
    "\n",
    "\n",
    "Y_predicted = np.dot(X_val_norm, W)\n",
    "J = np.sum(np.abs((Y_predicted - Y_val)/Y_val))\n",
    "\n",
    "percentage = round((J/m_val) * 100, 4)\n",
    "print(\"Percent error of BGD with Regularization =\", percentage)\n",
    "\n",
    "# ----------------------------------------------\n",
    "\n",
    "alpha = 0.001\n",
    "lambda_ = 0.0001\n",
    "W = np.zeros(4)\n",
    "epochs = 5\n",
    "\n",
    "W, J_history = stocasticGradDescentReg(X_norm, Y, W, alpha, lambda_, epochs)\n",
    "\n",
    "axs[1].plot(range(epochs*m), J_history)\n",
    "axs[1].set_title('Stochastic Grad Descent (Reg)')\n",
    "\n",
    "\n",
    "Y_predicted = np.dot(X_val_norm, W)\n",
    "J = np.sum(np.abs((Y_predicted - Y_val)/Y_val))\n",
    "\n",
    "percentage = round((J/m_val) * 100, 4)\n",
    "print(\"Percent error  of SGD with Regularization =\", percentage)\n",
    "\n",
    "# ----------------------------------------------\n",
    "\n",
    "alpha = 0.01\n",
    "lambda_ = 0.01\n",
    "W = np.zeros(4)\n",
    "epochs = 6\n",
    "batch_size = 30\n",
    "\n",
    "W, J_history = miniBatchGradDescentReg(X_norm, Y, W, alpha, lambda_, epochs, batch_size)\n",
    "\n",
    "\n",
    "axs[2].plot(range(epochs*(math.ceil(m/batch_size))), J_history)\n",
    "axs[2].set_title('Mini Batch Grad Descent (Reg)')\n",
    "\n",
    "Y_predicted = np.dot(X_val_norm, W)\n",
    "J = np.sum(np.abs((Y_predicted - Y_val)/Y_val))\n",
    "\n",
    "percentage = round((J/m_val) * 100, 3)\n",
    "print(\"Percent error  of MBGD with Regularization =\", percentage)\n",
    "\n",
    "# ----------------------------------------------\n",
    "\n",
    "fig.tight_layout(pad=3.0)"
   ]
  },
  {
   "cell_type": "markdown",
   "metadata": {},
   "source": [
    "------\n",
    "\n",
    "## Question 4\n",
    "\n",
    "d) Implement the LWR algorithm on the Housing Price data set with different tau values.<br/>\n",
    "Find out the tau value which will provide the best fit predictor and hence compare its\n",
    "results with (a) , (b) and (c) above.\n",
    "\n",
    "------"
   ]
  },
  {
   "cell_type": "code",
   "execution_count": 31,
   "metadata": {},
   "outputs": [],
   "source": [
    "# WIP"
   ]
  }
 ],
 "metadata": {
  "kernelspec": {
   "display_name": "Python 3",
   "language": "python",
   "name": "python3"
  },
  "language_info": {
   "codemirror_mode": {
    "name": "ipython",
    "version": 3
   },
   "file_extension": ".py",
   "mimetype": "text/x-python",
   "name": "python",
   "nbconvert_exporter": "python",
   "pygments_lexer": "ipython3",
   "version": "3.8.2"
  }
 },
 "nbformat": 4,
 "nbformat_minor": 4
}
